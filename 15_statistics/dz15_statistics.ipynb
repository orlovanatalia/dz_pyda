{
 "cells": [
  {
   "cell_type": "markdown",
   "metadata": {},
   "source": [
    "### Задание 1. Базовое изучение\n",
    "\n",
    "Изучить представленный набор данных на основе [описания его столбцов](https://raw.githubusercontent.com/obulygin/pyda_homeworks/master/statistics_basics/horse_data.names) и выбрать 8 столбцов для дальнейшего изучения (среди них должны быть как числовые, так и категориальные). Провести расчет базовых метрик для них, кратко описать результаты."
   ]
  },
  {
   "cell_type": "code",
   "execution_count": 256,
   "metadata": {},
   "outputs": [],
   "source": [
    "import pandas as pd\n",
    "import numpy as np"
   ]
  },
  {
   "cell_type": "code",
   "execution_count": 257,
   "metadata": {},
   "outputs": [
    {
     "data": {
      "text/html": [
       "<div>\n",
       "<style scoped>\n",
       "    .dataframe tbody tr th:only-of-type {\n",
       "        vertical-align: middle;\n",
       "    }\n",
       "\n",
       "    .dataframe tbody tr th {\n",
       "        vertical-align: top;\n",
       "    }\n",
       "\n",
       "    .dataframe thead th {\n",
       "        text-align: right;\n",
       "    }\n",
       "</style>\n",
       "<table border=\"1\" class=\"dataframe\">\n",
       "  <thead>\n",
       "    <tr style=\"text-align: right;\">\n",
       "      <th></th>\n",
       "      <th>0</th>\n",
       "      <th>1</th>\n",
       "      <th>2</th>\n",
       "      <th>3</th>\n",
       "      <th>4</th>\n",
       "      <th>5</th>\n",
       "      <th>6</th>\n",
       "      <th>7</th>\n",
       "      <th>8</th>\n",
       "      <th>9</th>\n",
       "      <th>...</th>\n",
       "      <th>18</th>\n",
       "      <th>19</th>\n",
       "      <th>20</th>\n",
       "      <th>21</th>\n",
       "      <th>22</th>\n",
       "      <th>23</th>\n",
       "      <th>24</th>\n",
       "      <th>25</th>\n",
       "      <th>26</th>\n",
       "      <th>27</th>\n",
       "    </tr>\n",
       "  </thead>\n",
       "  <tbody>\n",
       "    <tr>\n",
       "      <th>0</th>\n",
       "      <td>2.0</td>\n",
       "      <td>1</td>\n",
       "      <td>530101</td>\n",
       "      <td>38.5</td>\n",
       "      <td>66.0</td>\n",
       "      <td>28.0</td>\n",
       "      <td>3.0</td>\n",
       "      <td>3.0</td>\n",
       "      <td>NaN</td>\n",
       "      <td>2.0</td>\n",
       "      <td>...</td>\n",
       "      <td>45.0</td>\n",
       "      <td>8.4</td>\n",
       "      <td>NaN</td>\n",
       "      <td>NaN</td>\n",
       "      <td>2.0</td>\n",
       "      <td>2</td>\n",
       "      <td>11300</td>\n",
       "      <td>0</td>\n",
       "      <td>0</td>\n",
       "      <td>2</td>\n",
       "    </tr>\n",
       "    <tr>\n",
       "      <th>1</th>\n",
       "      <td>1.0</td>\n",
       "      <td>1</td>\n",
       "      <td>534817</td>\n",
       "      <td>39.2</td>\n",
       "      <td>88.0</td>\n",
       "      <td>20.0</td>\n",
       "      <td>NaN</td>\n",
       "      <td>NaN</td>\n",
       "      <td>4.0</td>\n",
       "      <td>1.0</td>\n",
       "      <td>...</td>\n",
       "      <td>50.0</td>\n",
       "      <td>85.0</td>\n",
       "      <td>2.0</td>\n",
       "      <td>2.0</td>\n",
       "      <td>3.0</td>\n",
       "      <td>2</td>\n",
       "      <td>2208</td>\n",
       "      <td>0</td>\n",
       "      <td>0</td>\n",
       "      <td>2</td>\n",
       "    </tr>\n",
       "    <tr>\n",
       "      <th>2</th>\n",
       "      <td>2.0</td>\n",
       "      <td>1</td>\n",
       "      <td>530334</td>\n",
       "      <td>38.3</td>\n",
       "      <td>40.0</td>\n",
       "      <td>24.0</td>\n",
       "      <td>1.0</td>\n",
       "      <td>1.0</td>\n",
       "      <td>3.0</td>\n",
       "      <td>1.0</td>\n",
       "      <td>...</td>\n",
       "      <td>33.0</td>\n",
       "      <td>6.7</td>\n",
       "      <td>NaN</td>\n",
       "      <td>NaN</td>\n",
       "      <td>1.0</td>\n",
       "      <td>2</td>\n",
       "      <td>0</td>\n",
       "      <td>0</td>\n",
       "      <td>0</td>\n",
       "      <td>1</td>\n",
       "    </tr>\n",
       "    <tr>\n",
       "      <th>3</th>\n",
       "      <td>1.0</td>\n",
       "      <td>9</td>\n",
       "      <td>5290409</td>\n",
       "      <td>39.1</td>\n",
       "      <td>164.0</td>\n",
       "      <td>84.0</td>\n",
       "      <td>4.0</td>\n",
       "      <td>1.0</td>\n",
       "      <td>6.0</td>\n",
       "      <td>2.0</td>\n",
       "      <td>...</td>\n",
       "      <td>48.0</td>\n",
       "      <td>7.2</td>\n",
       "      <td>3.0</td>\n",
       "      <td>5.3</td>\n",
       "      <td>2.0</td>\n",
       "      <td>1</td>\n",
       "      <td>2208</td>\n",
       "      <td>0</td>\n",
       "      <td>0</td>\n",
       "      <td>1</td>\n",
       "    </tr>\n",
       "    <tr>\n",
       "      <th>4</th>\n",
       "      <td>2.0</td>\n",
       "      <td>1</td>\n",
       "      <td>530255</td>\n",
       "      <td>37.3</td>\n",
       "      <td>104.0</td>\n",
       "      <td>35.0</td>\n",
       "      <td>NaN</td>\n",
       "      <td>NaN</td>\n",
       "      <td>6.0</td>\n",
       "      <td>2.0</td>\n",
       "      <td>...</td>\n",
       "      <td>74.0</td>\n",
       "      <td>7.4</td>\n",
       "      <td>NaN</td>\n",
       "      <td>NaN</td>\n",
       "      <td>2.0</td>\n",
       "      <td>2</td>\n",
       "      <td>4300</td>\n",
       "      <td>0</td>\n",
       "      <td>0</td>\n",
       "      <td>2</td>\n",
       "    </tr>\n",
       "  </tbody>\n",
       "</table>\n",
       "<p>5 rows × 28 columns</p>\n",
       "</div>"
      ],
      "text/plain": [
       "    0   1        2     3      4     5    6    7    8    9   ...    18    19  \\\n",
       "0  2.0   1   530101  38.5   66.0  28.0  3.0  3.0  NaN  2.0  ...  45.0   8.4   \n",
       "1  1.0   1   534817  39.2   88.0  20.0  NaN  NaN  4.0  1.0  ...  50.0  85.0   \n",
       "2  2.0   1   530334  38.3   40.0  24.0  1.0  1.0  3.0  1.0  ...  33.0   6.7   \n",
       "3  1.0   9  5290409  39.1  164.0  84.0  4.0  1.0  6.0  2.0  ...  48.0   7.2   \n",
       "4  2.0   1   530255  37.3  104.0  35.0  NaN  NaN  6.0  2.0  ...  74.0   7.4   \n",
       "\n",
       "    20   21   22  23     24  25  26  27  \n",
       "0  NaN  NaN  2.0   2  11300   0   0   2  \n",
       "1  2.0  2.0  3.0   2   2208   0   0   2  \n",
       "2  NaN  NaN  1.0   2      0   0   0   1  \n",
       "3  3.0  5.3  2.0   1   2208   0   0   1  \n",
       "4  NaN  NaN  2.0   2   4300   0   0   2  \n",
       "\n",
       "[5 rows x 28 columns]"
      ]
     },
     "execution_count": 257,
     "metadata": {},
     "output_type": "execute_result"
    }
   ],
   "source": [
    "horse = pd.read_csv('c:/ds22/1_pyda/15_statistic/horse_data.csv', sep=',',header=None, na_values='?')\n",
    "horse.head()"
   ]
  },
  {
   "cell_type": "code",
   "execution_count": 258,
   "metadata": {},
   "outputs": [
    {
     "data": {
      "text/html": [
       "<div>\n",
       "<style scoped>\n",
       "    .dataframe tbody tr th:only-of-type {\n",
       "        vertical-align: middle;\n",
       "    }\n",
       "\n",
       "    .dataframe tbody tr th {\n",
       "        vertical-align: top;\n",
       "    }\n",
       "\n",
       "    .dataframe thead th {\n",
       "        text-align: right;\n",
       "    }\n",
       "</style>\n",
       "<table border=\"1\" class=\"dataframe\">\n",
       "  <thead>\n",
       "    <tr style=\"text-align: right;\">\n",
       "      <th></th>\n",
       "      <th>surgery</th>\n",
       "      <th>age</th>\n",
       "      <th>number</th>\n",
       "      <th>rectemp</th>\n",
       "      <th>pulse</th>\n",
       "      <th>resprate</th>\n",
       "      <th>tempofextr</th>\n",
       "      <th>packcellvolume</th>\n",
       "    </tr>\n",
       "  </thead>\n",
       "  <tbody>\n",
       "    <tr>\n",
       "      <th>0</th>\n",
       "      <td>2.0</td>\n",
       "      <td>1</td>\n",
       "      <td>530101</td>\n",
       "      <td>38.5</td>\n",
       "      <td>66.0</td>\n",
       "      <td>28.0</td>\n",
       "      <td>3.0</td>\n",
       "      <td>45.0</td>\n",
       "    </tr>\n",
       "    <tr>\n",
       "      <th>1</th>\n",
       "      <td>1.0</td>\n",
       "      <td>1</td>\n",
       "      <td>534817</td>\n",
       "      <td>39.2</td>\n",
       "      <td>88.0</td>\n",
       "      <td>20.0</td>\n",
       "      <td>NaN</td>\n",
       "      <td>50.0</td>\n",
       "    </tr>\n",
       "    <tr>\n",
       "      <th>2</th>\n",
       "      <td>2.0</td>\n",
       "      <td>1</td>\n",
       "      <td>530334</td>\n",
       "      <td>38.3</td>\n",
       "      <td>40.0</td>\n",
       "      <td>24.0</td>\n",
       "      <td>1.0</td>\n",
       "      <td>33.0</td>\n",
       "    </tr>\n",
       "    <tr>\n",
       "      <th>3</th>\n",
       "      <td>1.0</td>\n",
       "      <td>9</td>\n",
       "      <td>5290409</td>\n",
       "      <td>39.1</td>\n",
       "      <td>164.0</td>\n",
       "      <td>84.0</td>\n",
       "      <td>4.0</td>\n",
       "      <td>48.0</td>\n",
       "    </tr>\n",
       "    <tr>\n",
       "      <th>4</th>\n",
       "      <td>2.0</td>\n",
       "      <td>1</td>\n",
       "      <td>530255</td>\n",
       "      <td>37.3</td>\n",
       "      <td>104.0</td>\n",
       "      <td>35.0</td>\n",
       "      <td>NaN</td>\n",
       "      <td>74.0</td>\n",
       "    </tr>\n",
       "  </tbody>\n",
       "</table>\n",
       "</div>"
      ],
      "text/plain": [
       "   surgery  age   number  rectemp  pulse  resprate  tempofextr  packcellvolume\n",
       "0      2.0    1   530101     38.5   66.0      28.0         3.0            45.0\n",
       "1      1.0    1   534817     39.2   88.0      20.0         NaN            50.0\n",
       "2      2.0    1   530334     38.3   40.0      24.0         1.0            33.0\n",
       "3      1.0    9  5290409     39.1  164.0      84.0         4.0            48.0\n",
       "4      2.0    1   530255     37.3  104.0      35.0         NaN            74.0"
      ]
     },
     "execution_count": 258,
     "metadata": {},
     "output_type": "execute_result"
    }
   ],
   "source": [
    "# Выбираем восемь столбцов\n",
    "df = horse[[0,  1,  2,  3,  4,  5,  6, 18]]\n",
    "df. columns = ['surgery','age','number','rectemp','pulse','resprate','tempofextr','packcellvolume']\n",
    "df.head()"
   ]
  },
  {
   "cell_type": "markdown",
   "metadata": {},
   "source": [
    "#### Типы данных в выбранных столбцах.\n",
    "##### Категориальные:\n",
    "- surgery - (1 = it had surgery, 2 = It was treated without surgery);\n",
    "- age - (1 = Adult horse, 2 = Young (< 6 months));\n",
    "- number - the case number assigned to the horse;\n",
    "- tempofextr - temperature of extremities (1 = Normal, 2 = Warm, 3 = Cool, 4 = Cold).\n",
    "\n",
    "##### Числовые:\n",
    "- rectemp - temperature in degrees celsius, normal temp is 37.8;\n",
    "- pulse - the heart rate in beats per minute, 30-40 is normal for adults;\n",
    "- resprate - respiratory rate, normal rate is 8 to 10\n",
    "- packcellvolume - the # of red cells by volume in the blood, normal range is 30 to 50."
   ]
  },
  {
   "cell_type": "markdown",
   "metadata": {},
   "source": [
    "Для количественных столбцов выведем основные статистические метрики.\n",
    "Видим, что значения имеют большой разброс, и средние величины\n",
    "сильно отличаются от нормы, но, возможно, у больных лошадей такое может быть."
   ]
  },
  {
   "cell_type": "code",
   "execution_count": 259,
   "metadata": {},
   "outputs": [
    {
     "data": {
      "text/html": [
       "<div>\n",
       "<style scoped>\n",
       "    .dataframe tbody tr th:only-of-type {\n",
       "        vertical-align: middle;\n",
       "    }\n",
       "\n",
       "    .dataframe tbody tr th {\n",
       "        vertical-align: top;\n",
       "    }\n",
       "\n",
       "    .dataframe thead th {\n",
       "        text-align: right;\n",
       "    }\n",
       "</style>\n",
       "<table border=\"1\" class=\"dataframe\">\n",
       "  <thead>\n",
       "    <tr style=\"text-align: right;\">\n",
       "      <th></th>\n",
       "      <th>rectemp</th>\n",
       "      <th>pulse</th>\n",
       "      <th>resprate</th>\n",
       "      <th>packcellvolume</th>\n",
       "    </tr>\n",
       "  </thead>\n",
       "  <tbody>\n",
       "    <tr>\n",
       "      <th>count</th>\n",
       "      <td>240.000000</td>\n",
       "      <td>276.000000</td>\n",
       "      <td>242.000000</td>\n",
       "      <td>271.000000</td>\n",
       "    </tr>\n",
       "    <tr>\n",
       "      <th>mean</th>\n",
       "      <td>38.167917</td>\n",
       "      <td>71.913043</td>\n",
       "      <td>30.417355</td>\n",
       "      <td>46.295203</td>\n",
       "    </tr>\n",
       "    <tr>\n",
       "      <th>std</th>\n",
       "      <td>0.732289</td>\n",
       "      <td>28.630557</td>\n",
       "      <td>17.642231</td>\n",
       "      <td>10.419335</td>\n",
       "    </tr>\n",
       "    <tr>\n",
       "      <th>min</th>\n",
       "      <td>35.400000</td>\n",
       "      <td>30.000000</td>\n",
       "      <td>8.000000</td>\n",
       "      <td>23.000000</td>\n",
       "    </tr>\n",
       "    <tr>\n",
       "      <th>25%</th>\n",
       "      <td>37.800000</td>\n",
       "      <td>48.000000</td>\n",
       "      <td>18.500000</td>\n",
       "      <td>38.000000</td>\n",
       "    </tr>\n",
       "    <tr>\n",
       "      <th>50%</th>\n",
       "      <td>38.200000</td>\n",
       "      <td>64.000000</td>\n",
       "      <td>24.500000</td>\n",
       "      <td>45.000000</td>\n",
       "    </tr>\n",
       "    <tr>\n",
       "      <th>75%</th>\n",
       "      <td>38.500000</td>\n",
       "      <td>88.000000</td>\n",
       "      <td>36.000000</td>\n",
       "      <td>52.000000</td>\n",
       "    </tr>\n",
       "    <tr>\n",
       "      <th>max</th>\n",
       "      <td>40.800000</td>\n",
       "      <td>184.000000</td>\n",
       "      <td>96.000000</td>\n",
       "      <td>75.000000</td>\n",
       "    </tr>\n",
       "  </tbody>\n",
       "</table>\n",
       "</div>"
      ],
      "text/plain": [
       "          rectemp       pulse    resprate  packcellvolume\n",
       "count  240.000000  276.000000  242.000000      271.000000\n",
       "mean    38.167917   71.913043   30.417355       46.295203\n",
       "std      0.732289   28.630557   17.642231       10.419335\n",
       "min     35.400000   30.000000    8.000000       23.000000\n",
       "25%     37.800000   48.000000   18.500000       38.000000\n",
       "50%     38.200000   64.000000   24.500000       45.000000\n",
       "75%     38.500000   88.000000   36.000000       52.000000\n",
       "max     40.800000  184.000000   96.000000       75.000000"
      ]
     },
     "execution_count": 259,
     "metadata": {},
     "output_type": "execute_result"
    }
   ],
   "source": [
    "df[['rectemp','pulse','resprate','packcellvolume']].describe()"
   ]
  },
  {
   "cell_type": "code",
   "execution_count": 260,
   "metadata": {},
   "outputs": [
    {
     "name": "stdout",
     "output_type": "stream",
     "text": [
      "mode rectemp\n",
      "38.0\n",
      "mode pulse\n",
      "48.0\n",
      "mode resprate\n",
      "20.0\n",
      "mode packcellvolume\n",
      "37.0\n"
     ]
    }
   ],
   "source": [
    "# Дополнительно расчитаем моду\n",
    "print('mode rectemp')\n",
    "print(df.rectemp.round().mode()[0])\n",
    "print('mode pulse')\n",
    "print(df.pulse.round().mode()[0])\n",
    "print('mode resprate')\n",
    "print(df.resprate.round().mode()[0])\n",
    "print('mode packcellvolume')\n",
    "print(df.packcellvolume.round().mode()[0])"
   ]
  },
  {
   "cell_type": "markdown",
   "metadata": {},
   "source": [
    "Для категориальных переменных возможные значения категорий указаны в описании, \n",
    "поэтому посмотрим количество строк в каждой категории (кроме number, которое является id лошади)."
   ]
  },
  {
   "cell_type": "code",
   "execution_count": 261,
   "metadata": {},
   "outputs": [
    {
     "name": "stdout",
     "output_type": "stream",
     "text": [
      "1.0    180\n",
      "2.0    119\n",
      "Name: surgery, dtype: int64\n",
      "1    276\n",
      "9     24\n",
      "Name: age, dtype: int64\n",
      "3.0    109\n",
      "1.0     78\n",
      "2.0     30\n",
      "4.0     27\n",
      "Name: tempofextr, dtype: int64\n"
     ]
    }
   ],
   "source": [
    "print(df['surgery'].value_counts())\n",
    "print(df['age'].value_counts())\n",
    "print(df['tempofextr'].value_counts())"
   ]
  },
  {
   "cell_type": "markdown",
   "metadata": {},
   "source": [
    "Для surgery и tempofextr в датасете представлены значения, которые указаны в описании.  \n",
    "В столбце age вместо значения 2 = Young, есть значение 9. Возможно, это ошибка описания."
   ]
  },
  {
   "cell_type": "markdown",
   "metadata": {},
   "source": [
    "### Задание 2. Работа с выбросами\n",
    "В выбранных числовых столбцах найти выбросы, выдвинуть гипотезы об их причинах и проинтерпретировать результаты. Принять и обосновать решение о дальнейшей работе с ними."
   ]
  },
  {
   "cell_type": "markdown",
   "metadata": {},
   "source": [
    "#### Выбросы будем определять только для количественных переменных. \n",
    "- Выбросы параметра rectemp"
   ]
  },
  {
   "cell_type": "code",
   "execution_count": 262,
   "metadata": {},
   "outputs": [
    {
     "name": "stdout",
     "output_type": "stream",
     "text": [
      "rectemp lower_bond = 36.75\n",
      "rectemp upper_bond = 39.55\n"
     ]
    },
    {
     "data": {
      "text/html": [
       "<div>\n",
       "<style scoped>\n",
       "    .dataframe tbody tr th:only-of-type {\n",
       "        vertical-align: middle;\n",
       "    }\n",
       "\n",
       "    .dataframe tbody tr th {\n",
       "        vertical-align: top;\n",
       "    }\n",
       "\n",
       "    .dataframe thead th {\n",
       "        text-align: right;\n",
       "    }\n",
       "</style>\n",
       "<table border=\"1\" class=\"dataframe\">\n",
       "  <thead>\n",
       "    <tr style=\"text-align: right;\">\n",
       "      <th></th>\n",
       "      <th>surgery</th>\n",
       "      <th>age</th>\n",
       "      <th>number</th>\n",
       "      <th>rectemp</th>\n",
       "      <th>pulse</th>\n",
       "      <th>resprate</th>\n",
       "      <th>tempofextr</th>\n",
       "      <th>packcellvolume</th>\n",
       "    </tr>\n",
       "  </thead>\n",
       "  <tbody>\n",
       "    <tr>\n",
       "      <th>44</th>\n",
       "      <td>1.0</td>\n",
       "      <td>1</td>\n",
       "      <td>535407</td>\n",
       "      <td>35.4</td>\n",
       "      <td>140.0</td>\n",
       "      <td>24.0</td>\n",
       "      <td>3.0</td>\n",
       "      <td>57.0</td>\n",
       "    </tr>\n",
       "    <tr>\n",
       "      <th>141</th>\n",
       "      <td>2.0</td>\n",
       "      <td>1</td>\n",
       "      <td>522979</td>\n",
       "      <td>36.0</td>\n",
       "      <td>42.0</td>\n",
       "      <td>30.0</td>\n",
       "      <td>NaN</td>\n",
       "      <td>64.0</td>\n",
       "    </tr>\n",
       "    <tr>\n",
       "      <th>238</th>\n",
       "      <td>2.0</td>\n",
       "      <td>1</td>\n",
       "      <td>528702</td>\n",
       "      <td>36.1</td>\n",
       "      <td>88.0</td>\n",
       "      <td>NaN</td>\n",
       "      <td>3.0</td>\n",
       "      <td>45.0</td>\n",
       "    </tr>\n",
       "    <tr>\n",
       "      <th>80</th>\n",
       "      <td>1.0</td>\n",
       "      <td>1</td>\n",
       "      <td>527518</td>\n",
       "      <td>36.4</td>\n",
       "      <td>98.0</td>\n",
       "      <td>35.0</td>\n",
       "      <td>3.0</td>\n",
       "      <td>47.0</td>\n",
       "    </tr>\n",
       "    <tr>\n",
       "      <th>118</th>\n",
       "      <td>1.0</td>\n",
       "      <td>1</td>\n",
       "      <td>533983</td>\n",
       "      <td>36.5</td>\n",
       "      <td>78.0</td>\n",
       "      <td>30.0</td>\n",
       "      <td>1.0</td>\n",
       "      <td>34.0</td>\n",
       "    </tr>\n",
       "    <tr>\n",
       "      <th>298</th>\n",
       "      <td>1.0</td>\n",
       "      <td>1</td>\n",
       "      <td>530612</td>\n",
       "      <td>36.5</td>\n",
       "      <td>100.0</td>\n",
       "      <td>24.0</td>\n",
       "      <td>3.0</td>\n",
       "      <td>50.0</td>\n",
       "    </tr>\n",
       "    <tr>\n",
       "      <th>251</th>\n",
       "      <td>2.0</td>\n",
       "      <td>1</td>\n",
       "      <td>527940</td>\n",
       "      <td>36.6</td>\n",
       "      <td>42.0</td>\n",
       "      <td>18.0</td>\n",
       "      <td>3.0</td>\n",
       "      <td>52.0</td>\n",
       "    </tr>\n",
       "    <tr>\n",
       "      <th>99</th>\n",
       "      <td>2.0</td>\n",
       "      <td>1</td>\n",
       "      <td>530002</td>\n",
       "      <td>39.6</td>\n",
       "      <td>108.0</td>\n",
       "      <td>51.0</td>\n",
       "      <td>3.0</td>\n",
       "      <td>59.0</td>\n",
       "    </tr>\n",
       "    <tr>\n",
       "      <th>75</th>\n",
       "      <td>1.0</td>\n",
       "      <td>9</td>\n",
       "      <td>534092</td>\n",
       "      <td>39.7</td>\n",
       "      <td>100.0</td>\n",
       "      <td>NaN</td>\n",
       "      <td>3.0</td>\n",
       "      <td>48.0</td>\n",
       "    </tr>\n",
       "    <tr>\n",
       "      <th>20</th>\n",
       "      <td>1.0</td>\n",
       "      <td>1</td>\n",
       "      <td>530157</td>\n",
       "      <td>39.9</td>\n",
       "      <td>72.0</td>\n",
       "      <td>60.0</td>\n",
       "      <td>1.0</td>\n",
       "      <td>46.0</td>\n",
       "    </tr>\n",
       "    <tr>\n",
       "      <th>281</th>\n",
       "      <td>2.0</td>\n",
       "      <td>1</td>\n",
       "      <td>530624</td>\n",
       "      <td>40.0</td>\n",
       "      <td>78.0</td>\n",
       "      <td>NaN</td>\n",
       "      <td>3.0</td>\n",
       "      <td>66.0</td>\n",
       "    </tr>\n",
       "    <tr>\n",
       "      <th>54</th>\n",
       "      <td>2.0</td>\n",
       "      <td>1</td>\n",
       "      <td>529461</td>\n",
       "      <td>40.3</td>\n",
       "      <td>114.0</td>\n",
       "      <td>36.0</td>\n",
       "      <td>3.0</td>\n",
       "      <td>57.0</td>\n",
       "    </tr>\n",
       "    <tr>\n",
       "      <th>91</th>\n",
       "      <td>2.0</td>\n",
       "      <td>1</td>\n",
       "      <td>529461</td>\n",
       "      <td>40.3</td>\n",
       "      <td>114.0</td>\n",
       "      <td>36.0</td>\n",
       "      <td>3.0</td>\n",
       "      <td>57.0</td>\n",
       "    </tr>\n",
       "    <tr>\n",
       "      <th>259</th>\n",
       "      <td>1.0</td>\n",
       "      <td>1</td>\n",
       "      <td>527734</td>\n",
       "      <td>40.8</td>\n",
       "      <td>72.0</td>\n",
       "      <td>42.0</td>\n",
       "      <td>3.0</td>\n",
       "      <td>54.0</td>\n",
       "    </tr>\n",
       "  </tbody>\n",
       "</table>\n",
       "</div>"
      ],
      "text/plain": [
       "     surgery  age  number  rectemp  pulse  resprate  tempofextr  \\\n",
       "44       1.0    1  535407     35.4  140.0      24.0         3.0   \n",
       "141      2.0    1  522979     36.0   42.0      30.0         NaN   \n",
       "238      2.0    1  528702     36.1   88.0       NaN         3.0   \n",
       "80       1.0    1  527518     36.4   98.0      35.0         3.0   \n",
       "118      1.0    1  533983     36.5   78.0      30.0         1.0   \n",
       "298      1.0    1  530612     36.5  100.0      24.0         3.0   \n",
       "251      2.0    1  527940     36.6   42.0      18.0         3.0   \n",
       "99       2.0    1  530002     39.6  108.0      51.0         3.0   \n",
       "75       1.0    9  534092     39.7  100.0       NaN         3.0   \n",
       "20       1.0    1  530157     39.9   72.0      60.0         1.0   \n",
       "281      2.0    1  530624     40.0   78.0       NaN         3.0   \n",
       "54       2.0    1  529461     40.3  114.0      36.0         3.0   \n",
       "91       2.0    1  529461     40.3  114.0      36.0         3.0   \n",
       "259      1.0    1  527734     40.8   72.0      42.0         3.0   \n",
       "\n",
       "     packcellvolume  \n",
       "44             57.0  \n",
       "141            64.0  \n",
       "238            45.0  \n",
       "80             47.0  \n",
       "118            34.0  \n",
       "298            50.0  \n",
       "251            52.0  \n",
       "99             59.0  \n",
       "75             48.0  \n",
       "20             46.0  \n",
       "281            66.0  \n",
       "54             57.0  \n",
       "91             57.0  \n",
       "259            54.0  "
      ]
     },
     "execution_count": 262,
     "metadata": {},
     "output_type": "execute_result"
    }
   ],
   "source": [
    "q1 = df.rectemp.quantile(0.25)\n",
    "q3 = df.rectemp.quantile(0.75)\n",
    "iqr = q3-q1\n",
    "lower_bond = q1 - (1.5 * iqr)\n",
    "upper_bond = q3 + (1.5 * iqr)\n",
    "print(f'rectemp lower_bond = {lower_bond:.2f}')\n",
    "print(f'rectemp upper_bond = {upper_bond:.2f}')\n",
    "df[(df.rectemp < lower_bond) | (df.rectemp > upper_bond)].sort_values('rectemp')"
   ]
  },
  {
   "cell_type": "markdown",
   "metadata": {},
   "source": [
    "Так как речь идет о медицинских показателях, то правильнее выбросами считать значения, которые невозможны с точки зрения медицины. \n",
    "С этой точки зрения вызывают вопросы значения, которые считаются выбросами при расчете с помощью межквартильного интервала. Поэтому, прежде чем решить как поступать с выбросами я проверила в открытых источниках, возможны ли такие значения.  \n",
    "Например, я нашла информацию, что температура может упасть или подняться на 2-4 градуса, то есть значения за пределами границ определенных при помощи межквартильного интервала реальны, и данные выбросы мы исключать не будем."
   ]
  },
  {
   "cell_type": "markdown",
   "metadata": {},
   "source": [
    "- Выбросы параметра pulse  \n",
    "Так как минимальное значение пульса равно 30, что является нормальным значением, будем определять только верхнюю границу по межквартильному интервалу. \n",
    "Так как пульс лошади может подняться до 180-240 ударов, значения выше верхней границы не будем исключать."
   ]
  },
  {
   "cell_type": "code",
   "execution_count": 263,
   "metadata": {},
   "outputs": [
    {
     "name": "stdout",
     "output_type": "stream",
     "text": [
      "pulse upper_bond = 148.0\n"
     ]
    },
    {
     "data": {
      "text/html": [
       "<div>\n",
       "<style scoped>\n",
       "    .dataframe tbody tr th:only-of-type {\n",
       "        vertical-align: middle;\n",
       "    }\n",
       "\n",
       "    .dataframe tbody tr th {\n",
       "        vertical-align: top;\n",
       "    }\n",
       "\n",
       "    .dataframe thead th {\n",
       "        text-align: right;\n",
       "    }\n",
       "</style>\n",
       "<table border=\"1\" class=\"dataframe\">\n",
       "  <thead>\n",
       "    <tr style=\"text-align: right;\">\n",
       "      <th></th>\n",
       "      <th>surgery</th>\n",
       "      <th>age</th>\n",
       "      <th>number</th>\n",
       "      <th>rectemp</th>\n",
       "      <th>pulse</th>\n",
       "      <th>resprate</th>\n",
       "      <th>tempofextr</th>\n",
       "      <th>packcellvolume</th>\n",
       "    </tr>\n",
       "  </thead>\n",
       "  <tbody>\n",
       "    <tr>\n",
       "      <th>3</th>\n",
       "      <td>1.0</td>\n",
       "      <td>9</td>\n",
       "      <td>5290409</td>\n",
       "      <td>39.1</td>\n",
       "      <td>164.0</td>\n",
       "      <td>84.0</td>\n",
       "      <td>4.0</td>\n",
       "      <td>48.0</td>\n",
       "    </tr>\n",
       "    <tr>\n",
       "      <th>41</th>\n",
       "      <td>2.0</td>\n",
       "      <td>9</td>\n",
       "      <td>5288249</td>\n",
       "      <td>39.0</td>\n",
       "      <td>150.0</td>\n",
       "      <td>72.0</td>\n",
       "      <td>NaN</td>\n",
       "      <td>47.0</td>\n",
       "    </tr>\n",
       "    <tr>\n",
       "      <th>55</th>\n",
       "      <td>1.0</td>\n",
       "      <td>9</td>\n",
       "      <td>5282839</td>\n",
       "      <td>38.6</td>\n",
       "      <td>160.0</td>\n",
       "      <td>20.0</td>\n",
       "      <td>3.0</td>\n",
       "      <td>38.0</td>\n",
       "    </tr>\n",
       "    <tr>\n",
       "      <th>255</th>\n",
       "      <td>1.0</td>\n",
       "      <td>9</td>\n",
       "      <td>5294539</td>\n",
       "      <td>38.8</td>\n",
       "      <td>184.0</td>\n",
       "      <td>84.0</td>\n",
       "      <td>1.0</td>\n",
       "      <td>33.0</td>\n",
       "    </tr>\n",
       "    <tr>\n",
       "      <th>275</th>\n",
       "      <td>1.0</td>\n",
       "      <td>9</td>\n",
       "      <td>5297159</td>\n",
       "      <td>38.8</td>\n",
       "      <td>150.0</td>\n",
       "      <td>50.0</td>\n",
       "      <td>1.0</td>\n",
       "      <td>50.0</td>\n",
       "    </tr>\n",
       "  </tbody>\n",
       "</table>\n",
       "</div>"
      ],
      "text/plain": [
       "     surgery  age   number  rectemp  pulse  resprate  tempofextr  \\\n",
       "3        1.0    9  5290409     39.1  164.0      84.0         4.0   \n",
       "41       2.0    9  5288249     39.0  150.0      72.0         NaN   \n",
       "55       1.0    9  5282839     38.6  160.0      20.0         3.0   \n",
       "255      1.0    9  5294539     38.8  184.0      84.0         1.0   \n",
       "275      1.0    9  5297159     38.8  150.0      50.0         1.0   \n",
       "\n",
       "     packcellvolume  \n",
       "3              48.0  \n",
       "41             47.0  \n",
       "55             38.0  \n",
       "255            33.0  \n",
       "275            50.0  "
      ]
     },
     "execution_count": 263,
     "metadata": {},
     "output_type": "execute_result"
    }
   ],
   "source": [
    "q1 = df.pulse.quantile(0.25)\n",
    "q3 = df.pulse.quantile(0.75)\n",
    "iqr = q3-q1\n",
    "upper_bond = q3 + (1.5 * iqr)\n",
    "print(f'pulse upper_bond = {upper_bond}')\n",
    "df[(df.pulse > upper_bond)]"
   ]
  },
  {
   "cell_type": "markdown",
   "metadata": {},
   "source": [
    "- Выбросы параметра resprate   \n",
    "Так как минимальное значение частоты дыхания равно 8, что является нормальным значением, будем определять только верхнюю границу по межквартильному интервалу. \n",
    "Так как частота дыхания у жеребят может быть до 130, значения выше верхней границы не будем исключать."
   ]
  },
  {
   "cell_type": "code",
   "execution_count": 264,
   "metadata": {},
   "outputs": [
    {
     "name": "stdout",
     "output_type": "stream",
     "text": [
      "resprate upper_bond = 62.25\n"
     ]
    }
   ],
   "source": [
    "q1 = df.resprate.quantile(0.25)\n",
    "q3 = df.resprate.quantile(0.75)\n",
    "iqr = q3-q1\n",
    "upper_bond = q3 + (1.5 * iqr)\n",
    "print(f'resprate upper_bond = {upper_bond}')"
   ]
  },
  {
   "cell_type": "markdown",
   "metadata": {},
   "source": [
    "- Выбросы параметра packcellvolume  \n",
    "При норме от 30 до 50 разброс значений показателя в пределах от 23 до 75 вполне возможен. По этой причине исключать выбросы, определенные при помощи меквартиьного интервала исключать не будем."
   ]
  },
  {
   "cell_type": "code",
   "execution_count": 265,
   "metadata": {},
   "outputs": [
    {
     "name": "stdout",
     "output_type": "stream",
     "text": [
      "packcellvolume lower_bond = 17.00\n",
      "packcellvolume upper_bond = 73.00\n"
     ]
    },
    {
     "data": {
      "text/html": [
       "<div>\n",
       "<style scoped>\n",
       "    .dataframe tbody tr th:only-of-type {\n",
       "        vertical-align: middle;\n",
       "    }\n",
       "\n",
       "    .dataframe tbody tr th {\n",
       "        vertical-align: top;\n",
       "    }\n",
       "\n",
       "    .dataframe thead th {\n",
       "        text-align: right;\n",
       "    }\n",
       "</style>\n",
       "<table border=\"1\" class=\"dataframe\">\n",
       "  <thead>\n",
       "    <tr style=\"text-align: right;\">\n",
       "      <th></th>\n",
       "      <th>surgery</th>\n",
       "      <th>age</th>\n",
       "      <th>number</th>\n",
       "      <th>rectemp</th>\n",
       "      <th>pulse</th>\n",
       "      <th>resprate</th>\n",
       "      <th>tempofextr</th>\n",
       "      <th>packcellvolume</th>\n",
       "    </tr>\n",
       "  </thead>\n",
       "  <tbody>\n",
       "    <tr>\n",
       "      <th>4</th>\n",
       "      <td>2.0</td>\n",
       "      <td>1</td>\n",
       "      <td>530255</td>\n",
       "      <td>37.3</td>\n",
       "      <td>104.0</td>\n",
       "      <td>35.0</td>\n",
       "      <td>NaN</td>\n",
       "      <td>74.0</td>\n",
       "    </tr>\n",
       "    <tr>\n",
       "      <th>144</th>\n",
       "      <td>1.0</td>\n",
       "      <td>1</td>\n",
       "      <td>534519</td>\n",
       "      <td>37.1</td>\n",
       "      <td>84.0</td>\n",
       "      <td>40.0</td>\n",
       "      <td>3.0</td>\n",
       "      <td>75.0</td>\n",
       "    </tr>\n",
       "    <tr>\n",
       "      <th>151</th>\n",
       "      <td>1.0</td>\n",
       "      <td>1</td>\n",
       "      <td>529399</td>\n",
       "      <td>39.3</td>\n",
       "      <td>NaN</td>\n",
       "      <td>NaN</td>\n",
       "      <td>4.0</td>\n",
       "      <td>75.0</td>\n",
       "    </tr>\n",
       "  </tbody>\n",
       "</table>\n",
       "</div>"
      ],
      "text/plain": [
       "     surgery  age  number  rectemp  pulse  resprate  tempofextr  \\\n",
       "4        2.0    1  530255     37.3  104.0      35.0         NaN   \n",
       "144      1.0    1  534519     37.1   84.0      40.0         3.0   \n",
       "151      1.0    1  529399     39.3    NaN       NaN         4.0   \n",
       "\n",
       "     packcellvolume  \n",
       "4              74.0  \n",
       "144            75.0  \n",
       "151            75.0  "
      ]
     },
     "execution_count": 265,
     "metadata": {},
     "output_type": "execute_result"
    }
   ],
   "source": [
    "q1 = df.packcellvolume.quantile(0.25)\n",
    "q3 = df.packcellvolume.quantile(0.75)\n",
    "iqr = q3-q1\n",
    "lower_bond = q1 - (1.5 * iqr)\n",
    "upper_bond = q3 + (1.5 * iqr)\n",
    "print(f'packcellvolume lower_bond = {lower_bond:.2f}')\n",
    "print(f'packcellvolume upper_bond = {upper_bond:.2f}')\n",
    "df[(df.packcellvolume < lower_bond) | (df.packcellvolume > upper_bond)].sort_values('packcellvolume')"
   ]
  },
  {
   "cell_type": "markdown",
   "metadata": {},
   "source": [
    "### Задание 3. Работа с пропусками\n",
    "Рассчитать количество выбросов для всех выбранных столбцов. Принять и обосновать решение о методе работы с пропусками по каждому столбцу, сформировать датафрейм, в котором пропуски будут отсутствовать."
   ]
  },
  {
   "cell_type": "code",
   "execution_count": 266,
   "metadata": {},
   "outputs": [
    {
     "name": "stdout",
     "output_type": "stream",
     "text": [
      "<class 'pandas.core.frame.DataFrame'>\n",
      "RangeIndex: 300 entries, 0 to 299\n",
      "Data columns (total 8 columns):\n",
      " #   Column          Non-Null Count  Dtype  \n",
      "---  ------          --------------  -----  \n",
      " 0   surgery         299 non-null    float64\n",
      " 1   age             300 non-null    int64  \n",
      " 2   number          300 non-null    int64  \n",
      " 3   rectemp         240 non-null    float64\n",
      " 4   pulse           276 non-null    float64\n",
      " 5   resprate        242 non-null    float64\n",
      " 6   tempofextr      244 non-null    float64\n",
      " 7   packcellvolume  271 non-null    float64\n",
      "dtypes: float64(6), int64(2)\n",
      "memory usage: 18.9 KB\n"
     ]
    }
   ],
   "source": [
    "df.info()"
   ]
  },
  {
   "cell_type": "markdown",
   "metadata": {},
   "source": [
    "Анализ датасета показывает, что пропущенные значения есть во всех столбцах, кроме age и number. "
   ]
  },
  {
   "cell_type": "code",
   "execution_count": 267,
   "metadata": {},
   "outputs": [
    {
     "name": "stdout",
     "output_type": "stream",
     "text": [
      "surgery - 0.3%\n",
      "age - 0.0%\n",
      "number - 0.0%\n",
      "rectemp - 20.0%\n",
      "pulse - 8.0%\n",
      "resprate - 19.3%\n",
      "tempofextr - 18.7%\n",
      "packcellvolume - 9.7%\n"
     ]
    }
   ],
   "source": [
    "for col in df.columns:\n",
    "    missing = df[col].isnull().mean()\n",
    "    print(f'{col} - {missing:.1%}')"
   ]
  },
  {
   "cell_type": "markdown",
   "metadata": {},
   "source": [
    "Так как процент пропущенных значений не превышает 20%, столбцы удалять не будем.  \n",
    "Для работы с пропущенными значениями предлагается следующий поход:\n",
    "- найти строки, в которых пропущены значения во всех столбцах кроме surgery, age и number и удалить их;\n",
    "- разделить датасет на четыре группы: по возрасту и наличию операции и заполнить пропущенные значения средними значениями для каждой группы;\n",
    "- при заполнении для столбцов с категориальными величинами (surgery и tempofextr) использовать моду, для столбцов с количественными величинами (rectemp, pulse, resprate и packcellvolume) использовать медиану."
   ]
  },
  {
   "cell_type": "code",
   "execution_count": 268,
   "metadata": {},
   "outputs": [
    {
     "data": {
      "text/html": [
       "<div>\n",
       "<style scoped>\n",
       "    .dataframe tbody tr th:only-of-type {\n",
       "        vertical-align: middle;\n",
       "    }\n",
       "\n",
       "    .dataframe tbody tr th {\n",
       "        vertical-align: top;\n",
       "    }\n",
       "\n",
       "    .dataframe thead th {\n",
       "        text-align: right;\n",
       "    }\n",
       "</style>\n",
       "<table border=\"1\" class=\"dataframe\">\n",
       "  <thead>\n",
       "    <tr style=\"text-align: right;\">\n",
       "      <th></th>\n",
       "      <th>surgery</th>\n",
       "      <th>age</th>\n",
       "      <th>number</th>\n",
       "      <th>rectemp</th>\n",
       "      <th>pulse</th>\n",
       "      <th>resprate</th>\n",
       "      <th>tempofextr</th>\n",
       "      <th>packcellvolume</th>\n",
       "    </tr>\n",
       "  </thead>\n",
       "  <tbody>\n",
       "    <tr>\n",
       "      <th>28</th>\n",
       "      <td>1.0</td>\n",
       "      <td>1</td>\n",
       "      <td>5279442</td>\n",
       "      <td>NaN</td>\n",
       "      <td>NaN</td>\n",
       "      <td>NaN</td>\n",
       "      <td>NaN</td>\n",
       "      <td>NaN</td>\n",
       "    </tr>\n",
       "    <tr>\n",
       "      <th>175</th>\n",
       "      <td>1.0</td>\n",
       "      <td>1</td>\n",
       "      <td>527929</td>\n",
       "      <td>NaN</td>\n",
       "      <td>NaN</td>\n",
       "      <td>NaN</td>\n",
       "      <td>NaN</td>\n",
       "      <td>NaN</td>\n",
       "    </tr>\n",
       "    <tr>\n",
       "      <th>216</th>\n",
       "      <td>2.0</td>\n",
       "      <td>1</td>\n",
       "      <td>528977</td>\n",
       "      <td>NaN</td>\n",
       "      <td>NaN</td>\n",
       "      <td>NaN</td>\n",
       "      <td>NaN</td>\n",
       "      <td>NaN</td>\n",
       "    </tr>\n",
       "    <tr>\n",
       "      <th>288</th>\n",
       "      <td>1.0</td>\n",
       "      <td>1</td>\n",
       "      <td>529428</td>\n",
       "      <td>NaN</td>\n",
       "      <td>NaN</td>\n",
       "      <td>NaN</td>\n",
       "      <td>NaN</td>\n",
       "      <td>NaN</td>\n",
       "    </tr>\n",
       "  </tbody>\n",
       "</table>\n",
       "</div>"
      ],
      "text/plain": [
       "     surgery  age   number  rectemp  pulse  resprate  tempofextr  \\\n",
       "28       1.0    1  5279442      NaN    NaN       NaN         NaN   \n",
       "175      1.0    1   527929      NaN    NaN       NaN         NaN   \n",
       "216      2.0    1   528977      NaN    NaN       NaN         NaN   \n",
       "288      1.0    1   529428      NaN    NaN       NaN         NaN   \n",
       "\n",
       "     packcellvolume  \n",
       "28              NaN  \n",
       "175             NaN  \n",
       "216             NaN  \n",
       "288             NaN  "
      ]
     },
     "execution_count": 268,
     "metadata": {},
     "output_type": "execute_result"
    }
   ],
   "source": [
    "df[df.rectemp.isnull() & df.pulse.isnull() & df.resprate.isnull() & df.tempofextr.isnull() & df.packcellvolume.isnull()]"
   ]
  },
  {
   "cell_type": "code",
   "execution_count": 269,
   "metadata": {},
   "outputs": [
    {
     "name": "stdout",
     "output_type": "stream",
     "text": [
      "Int64Index([28, 175, 216, 288], dtype='int64')\n"
     ]
    },
    {
     "data": {
      "text/plain": [
       "296"
      ]
     },
     "execution_count": 269,
     "metadata": {},
     "output_type": "execute_result"
    }
   ],
   "source": [
    "drop_list = df.index[df.rectemp.isnull() & df.pulse.isnull() & df.resprate.isnull() & df.tempofextr.isnull() & df.packcellvolume.isnull()]\n",
    "print(drop_list)\n",
    "#df.drop(drop_list, inplace=True)\n",
    "df = df.drop(drop_list)\n",
    "len(df)"
   ]
  },
  {
   "cell_type": "markdown",
   "metadata": {},
   "source": [
    "#### Пропуски в столбце surgery"
   ]
  },
  {
   "cell_type": "code",
   "execution_count": 270,
   "metadata": {},
   "outputs": [
    {
     "name": "stdout",
     "output_type": "stream",
     "text": [
      "1\n"
     ]
    },
    {
     "data": {
      "text/html": [
       "<div>\n",
       "<style scoped>\n",
       "    .dataframe tbody tr th:only-of-type {\n",
       "        vertical-align: middle;\n",
       "    }\n",
       "\n",
       "    .dataframe tbody tr th {\n",
       "        vertical-align: top;\n",
       "    }\n",
       "\n",
       "    .dataframe thead th {\n",
       "        text-align: right;\n",
       "    }\n",
       "</style>\n",
       "<table border=\"1\" class=\"dataframe\">\n",
       "  <thead>\n",
       "    <tr style=\"text-align: right;\">\n",
       "      <th></th>\n",
       "      <th>surgery</th>\n",
       "      <th>age</th>\n",
       "      <th>number</th>\n",
       "      <th>rectemp</th>\n",
       "      <th>pulse</th>\n",
       "      <th>resprate</th>\n",
       "      <th>tempofextr</th>\n",
       "      <th>packcellvolume</th>\n",
       "    </tr>\n",
       "  </thead>\n",
       "  <tbody>\n",
       "    <tr>\n",
       "      <th>132</th>\n",
       "      <td>NaN</td>\n",
       "      <td>1</td>\n",
       "      <td>534572</td>\n",
       "      <td>38.0</td>\n",
       "      <td>48.0</td>\n",
       "      <td>20.0</td>\n",
       "      <td>3.0</td>\n",
       "      <td>43.0</td>\n",
       "    </tr>\n",
       "  </tbody>\n",
       "</table>\n",
       "</div>"
      ],
      "text/plain": [
       "     surgery  age  number  rectemp  pulse  resprate  tempofextr  \\\n",
       "132      NaN    1  534572     38.0   48.0      20.0         3.0   \n",
       "\n",
       "     packcellvolume  \n",
       "132            43.0  "
      ]
     },
     "execution_count": 270,
     "metadata": {},
     "output_type": "execute_result"
    }
   ],
   "source": [
    "print(df.surgery.isna().sum())\n",
    "df[df.surgery.isnull()]"
   ]
  },
  {
   "cell_type": "code",
   "execution_count": 271,
   "metadata": {},
   "outputs": [
    {
     "data": {
      "text/html": [
       "<div>\n",
       "<style scoped>\n",
       "    .dataframe tbody tr th:only-of-type {\n",
       "        vertical-align: middle;\n",
       "    }\n",
       "\n",
       "    .dataframe tbody tr th {\n",
       "        vertical-align: top;\n",
       "    }\n",
       "\n",
       "    .dataframe thead th {\n",
       "        text-align: right;\n",
       "    }\n",
       "</style>\n",
       "<table border=\"1\" class=\"dataframe\">\n",
       "  <thead>\n",
       "    <tr style=\"text-align: right;\">\n",
       "      <th></th>\n",
       "      <th>surgery</th>\n",
       "      <th>age</th>\n",
       "      <th>number</th>\n",
       "      <th>rectemp</th>\n",
       "      <th>pulse</th>\n",
       "      <th>resprate</th>\n",
       "      <th>tempofextr</th>\n",
       "      <th>packcellvolume</th>\n",
       "    </tr>\n",
       "  </thead>\n",
       "  <tbody>\n",
       "    <tr>\n",
       "      <th>132</th>\n",
       "      <td>NaN</td>\n",
       "      <td>1</td>\n",
       "      <td>534572</td>\n",
       "      <td>38.0</td>\n",
       "      <td>48.0</td>\n",
       "      <td>20.0</td>\n",
       "      <td>3.0</td>\n",
       "      <td>43.0</td>\n",
       "    </tr>\n",
       "  </tbody>\n",
       "</table>\n",
       "</div>"
      ],
      "text/plain": [
       "     surgery  age  number  rectemp  pulse  resprate  tempofextr  \\\n",
       "132      NaN    1  534572     38.0   48.0      20.0         3.0   \n",
       "\n",
       "     packcellvolume  \n",
       "132            43.0  "
      ]
     },
     "execution_count": 271,
     "metadata": {},
     "output_type": "execute_result"
    }
   ],
   "source": [
    "# ПРоверим, не ли другого значения для этого id\n",
    "df[df.number == 534572]"
   ]
  },
  {
   "cell_type": "code",
   "execution_count": 272,
   "metadata": {},
   "outputs": [
    {
     "name": "stdout",
     "output_type": "stream",
     "text": [
      "1.0\n",
      "0\n"
     ]
    }
   ],
   "source": [
    "# Так как другой строки с таким id нет, заменим пропущенное значение модой для категории age = 1\n",
    "print(df[df.age==1].surgery.mode()[0])\n",
    "df.surgery.fillna(df[df.age==1].surgery.mode()[0], inplace=True)\n",
    "print(df.surgery.isna().sum())"
   ]
  },
  {
   "cell_type": "markdown",
   "metadata": {},
   "source": [
    "В остальных столбцах будем заполнять медианой на основе группировки по столбцам surgery и age"
   ]
  },
  {
   "cell_type": "markdown",
   "metadata": {},
   "source": [
    "#### Пропуски в столбце rectemp"
   ]
  },
  {
   "cell_type": "code",
   "execution_count": 273,
   "metadata": {},
   "outputs": [
    {
     "name": "stdout",
     "output_type": "stream",
     "text": [
      "surgery  age\n",
      "1.0      1      38.1\n",
      "         9      38.6\n",
      "2.0      1      38.2\n",
      "         9      38.6\n",
      "Name: rectemp, dtype: float64\n",
      "surgery  age\n",
      "1.0      1      38.1\n",
      "         9      38.6\n",
      "2.0      1      38.2\n",
      "         9      38.6\n",
      "Name: rectemp, dtype: float64\n"
     ]
    }
   ],
   "source": [
    "print(df.groupby(['surgery','age']).rectemp.median())\n",
    "df.rectemp.fillna(df.groupby(['surgery','age']).rectemp.transform('median'), inplace=True)\n",
    "print(df.groupby(['surgery','age']).rectemp.median())"
   ]
  },
  {
   "cell_type": "markdown",
   "metadata": {},
   "source": [
    "#### Пропуски в столбце pulse"
   ]
  },
  {
   "cell_type": "code",
   "execution_count": 278,
   "metadata": {},
   "outputs": [
    {
     "name": "stdout",
     "output_type": "stream",
     "text": [
      "surgery  age\n",
      "1.0      1       66.0\n",
      "         9      129.0\n",
      "2.0      1       54.0\n",
      "         9       91.0\n",
      "Name: pulse, dtype: float64\n",
      "surgery  age\n",
      "1.0      1       66.0\n",
      "         9      129.0\n",
      "2.0      1       54.0\n",
      "         9       91.0\n",
      "Name: pulse, dtype: float64\n"
     ]
    }
   ],
   "source": [
    "print(df.groupby(['surgery','age']).pulse.median())\n",
    "df.pulse.fillna(df.groupby(['surgery','age']).pulse.transform('median'), inplace=True)\n",
    "print(df.groupby(['surgery','age']).pulse.median())"
   ]
  },
  {
   "cell_type": "markdown",
   "metadata": {},
   "source": [
    "#### Пропуски в столбце resprate"
   ]
  },
  {
   "cell_type": "code",
   "execution_count": 274,
   "metadata": {},
   "outputs": [
    {
     "name": "stdout",
     "output_type": "stream",
     "text": [
      "surgery  age\n",
      "1.0      1      24.0\n",
      "         9      60.0\n",
      "2.0      1      24.0\n",
      "         9      30.0\n",
      "Name: resprate, dtype: float64\n",
      "surgery  age\n",
      "1.0      1      24.0\n",
      "         9      60.0\n",
      "2.0      1      24.0\n",
      "         9      30.0\n",
      "Name: resprate, dtype: float64\n"
     ]
    }
   ],
   "source": [
    "print(df.groupby(['surgery','age']).resprate.median())\n",
    "df.resprate.fillna(df.groupby(['surgery','age']).resprate.transform('median'), inplace=True)\n",
    "print(df.groupby(['surgery','age']).resprate.median())"
   ]
  },
  {
   "cell_type": "markdown",
   "metadata": {},
   "source": [
    "#### Пропуски в столбце tempofextr"
   ]
  },
  {
   "cell_type": "code",
   "execution_count": 275,
   "metadata": {},
   "outputs": [
    {
     "name": "stdout",
     "output_type": "stream",
     "text": [
      "surgery  age\n",
      "1.0      1      3.0\n",
      "         9      3.0\n",
      "2.0      1      2.0\n",
      "         9      1.0\n",
      "Name: tempofextr, dtype: float64\n",
      "surgery  age\n",
      "1.0      1      3.0\n",
      "         9      3.0\n",
      "2.0      1      2.0\n",
      "         9      1.0\n",
      "Name: tempofextr, dtype: float64\n"
     ]
    }
   ],
   "source": [
    "print(df.groupby(['surgery','age']).tempofextr.median())\n",
    "df.tempofextr.fillna(df.groupby(['surgery','age']).tempofextr.transform('median'), inplace=True)\n",
    "print(df.groupby(['surgery','age']).tempofextr.median())"
   ]
  },
  {
   "cell_type": "markdown",
   "metadata": {},
   "source": [
    "#### Пропуски в столбце packcellvolume\n"
   ]
  },
  {
   "cell_type": "code",
   "execution_count": 276,
   "metadata": {},
   "outputs": [
    {
     "name": "stdout",
     "output_type": "stream",
     "text": [
      "surgery  age\n",
      "1.0      1      45.0\n",
      "         9      45.0\n",
      "2.0      1      44.0\n",
      "         9      37.0\n",
      "Name: packcellvolume, dtype: float64\n",
      "surgery  age\n",
      "1.0      1      45.0\n",
      "         9      45.0\n",
      "2.0      1      44.0\n",
      "         9      37.0\n",
      "Name: packcellvolume, dtype: float64\n"
     ]
    }
   ],
   "source": [
    "print(df.groupby(['surgery','age']).packcellvolume.median())\n",
    "df.packcellvolume.fillna(df.groupby(['surgery','age']).packcellvolume.transform('median'), inplace=True)\n",
    "print(df.groupby(['surgery','age']).packcellvolume.median())"
   ]
  },
  {
   "cell_type": "code",
   "execution_count": 279,
   "metadata": {},
   "outputs": [
    {
     "name": "stdout",
     "output_type": "stream",
     "text": [
      "<class 'pandas.core.frame.DataFrame'>\n",
      "Int64Index: 296 entries, 0 to 299\n",
      "Data columns (total 8 columns):\n",
      " #   Column          Non-Null Count  Dtype  \n",
      "---  ------          --------------  -----  \n",
      " 0   surgery         296 non-null    float64\n",
      " 1   age             296 non-null    int64  \n",
      " 2   number          296 non-null    int64  \n",
      " 3   rectemp         296 non-null    float64\n",
      " 4   pulse           296 non-null    float64\n",
      " 5   resprate        296 non-null    float64\n",
      " 6   tempofextr      296 non-null    float64\n",
      " 7   packcellvolume  296 non-null    float64\n",
      "dtypes: float64(6), int64(2)\n",
      "memory usage: 20.8 KB\n"
     ]
    }
   ],
   "source": [
    "df.info()"
   ]
  },
  {
   "cell_type": "markdown",
   "metadata": {},
   "source": [
    "#### Итог: датасет не содержит пропущенных значений"
   ]
  },
  {
   "cell_type": "code",
   "execution_count": null,
   "metadata": {},
   "outputs": [],
   "source": []
  }
 ],
 "metadata": {
  "kernelspec": {
   "display_name": "Python 3",
   "language": "python",
   "name": "python3"
  },
  "language_info": {
   "codemirror_mode": {
    "name": "ipython",
    "version": 3
   },
   "file_extension": ".py",
   "mimetype": "text/x-python",
   "name": "python",
   "nbconvert_exporter": "python",
   "pygments_lexer": "ipython3",
   "version": "3.8.3"
  }
 },
 "nbformat": 4,
 "nbformat_minor": 4
}
