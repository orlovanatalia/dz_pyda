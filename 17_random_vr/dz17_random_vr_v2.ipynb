{
 "cells": [
  {
   "cell_type": "markdown",
   "metadata": {},
   "source": [
    "Смоделировать игру против лотерейного автомата типа \"777\". Игрок платит 1 руб., после чего выпадает трёхзначное случайное целое число, равномерно\n",
    "распределенное от 000 до 999. При некоторых значениях числа игрок получает выигрыш (см. справа)\n",
    "- Выгодна ли игра игроку?\n",
    "- Сколько в среднем приобретает или теряет игрок за одну игру?  \n",
    "Выигрыш:  \n",
    "777: 200 руб.  \n",
    "999: 100 руб.  \n",
    "555: 50 руб.  \n",
    "333: 15 руб.  \n",
    "111: 10 руб.  \n",
    "x77: 5 руб.  \n",
    "xx7: 3 руб.  \n",
    "x00: 2 руб.  \n",
    "xx0: 1 руб.  "
   ]
  },
  {
   "cell_type": "code",
   "execution_count": 2,
   "metadata": {},
   "outputs": [],
   "source": [
    "import numpy as np"
   ]
  },
  {
   "cell_type": "markdown",
   "metadata": {},
   "source": [
    "Чтобы определить выгодна ли игра игроку смоделируем его выигрыш и сравним с затратами. Так как одна попытка стоит один руб, то затраты игрока будут равны количеству попыток."
   ]
  },
  {
   "cell_type": "code",
   "execution_count": 19,
   "metadata": {},
   "outputs": [],
   "source": [
    "trials = 1000000  # Количество игр\n",
    "prizes = 0    # Сумма призов"
   ]
  },
  {
   "cell_type": "code",
   "execution_count": 20,
   "metadata": {},
   "outputs": [
    {
     "name": "stdout",
     "output_type": "stream",
     "text": [
      "Выигрыш - 786210 руб.\n"
     ]
    }
   ],
   "source": [
    "for i in range(trials):\n",
    "    x = np.random.randint(0,1000)\n",
    "    if x == 777:\n",
    "        prizes += 200\n",
    "    elif x == 999:\n",
    "        prizes += 100\n",
    "    elif x == 555:\n",
    "        prizes += 50\n",
    "    elif x == 111:\n",
    "        prizes += 10\n",
    "    elif ((x - 77) % 100 == 0):\n",
    "        prizes += 5\n",
    "    elif ((x - 7) % 10 == 0):\n",
    "        prizes += 3\n",
    "    elif x % 100 == 0 and x != 0:\n",
    "        prizes += 2\n",
    "    elif (x % 10 == 0) and x != 0:\n",
    "        prizes += 1\n",
    "print(f'Выигрыш - {prizes} руб.')       \n",
    "    "
   ]
  },
  {
   "cell_type": "code",
   "execution_count": 21,
   "metadata": {},
   "outputs": [
    {
     "name": "stdout",
     "output_type": "stream",
     "text": [
      "Игра не выгодна игроку\n"
     ]
    }
   ],
   "source": [
    "profit = prizes - trials\n",
    "if profit < 0:\n",
    "    print('Игра не выгодна игроку')\n",
    "else:\n",
    "    print('Игра выгодна игроку')      \n",
    "    "
   ]
  },
  {
   "cell_type": "code",
   "execution_count": 22,
   "metadata": {},
   "outputs": [
    {
     "name": "stdout",
     "output_type": "stream",
     "text": [
      "За одну игру игрок в среднем теряет -0.21379 руб\n"
     ]
    }
   ],
   "source": [
    "losses = profit / trials\n",
    "print (f'За одну игру игрок в среднем теряет {losses} руб')"
   ]
  },
  {
   "cell_type": "code",
   "execution_count": null,
   "metadata": {},
   "outputs": [],
   "source": []
  }
 ],
 "metadata": {
  "kernelspec": {
   "display_name": "Python 3",
   "language": "python",
   "name": "python3"
  },
  "language_info": {
   "codemirror_mode": {
    "name": "ipython",
    "version": 3
   },
   "file_extension": ".py",
   "mimetype": "text/x-python",
   "name": "python",
   "nbconvert_exporter": "python",
   "pygments_lexer": "ipython3",
   "version": "3.8.3"
  }
 },
 "nbformat": 4,
 "nbformat_minor": 4
}
