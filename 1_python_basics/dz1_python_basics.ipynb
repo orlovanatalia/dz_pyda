{
 "cells": [
  {
   "cell_type": "markdown",
   "metadata": {},
   "source": [
    "### Домашнее задание по теме \"Основы Python\"\n"
   ]
  },
  {
   "cell_type": "markdown",
   "metadata": {},
   "source": [
    "#### Задание 1."
   ]
  },
  {
   "cell_type": "code",
   "execution_count": 8,
   "metadata": {},
   "outputs": [
    {
     "name": "stdout",
     "output_type": "stream",
     "text": [
      "Введите фразу1: qwerty\n",
      "Введите фразу2: qwerty\n",
      "Фразы одинаковой длины\n"
     ]
    }
   ],
   "source": [
    "phrase1 = input('Введите фразу1: ')\n",
    "phrase2 = input('Введите фразу2: ')\n",
    "if phrase1 > phrase2:\n",
    "    print('Фраза1 длиннее фразы2.')\n",
    "elif phrase1 < phrase2:\n",
    "    print('Фраза2 длиннее фразы1.')\n",
    "else:\n",
    "    print('Фразы одинаковой длины.')"
   ]
  },
  {
   "cell_type": "markdown",
   "metadata": {},
   "source": [
    "#### Задание 2."
   ]
  },
  {
   "cell_type": "code",
   "execution_count": 33,
   "metadata": {},
   "outputs": [
    {
     "name": "stdout",
     "output_type": "stream",
     "text": [
      "year = 2021\n",
      "Результат:\n",
      "Обычный год\n"
     ]
    }
   ],
   "source": [
    "year = 2020\n",
    "print('year =',year)\n",
    "if year % 4 == 0:\n",
    "    print('Результат:\\nВисокосный год')\n",
    "else:\n",
    "    print('Результат:\\nОбычный год')"
   ]
  },
  {
   "cell_type": "markdown",
   "metadata": {},
   "source": [
    "#### Задание 3."
   ]
  },
  {
   "cell_type": "code",
   "execution_count": 26,
   "metadata": {},
   "outputs": [
    {
     "name": "stdout",
     "output_type": "stream",
     "text": [
      "Введите день:\n",
      "19\n",
      "Введите месяц:\n",
      "Декабрь\n",
      "Ваш знак зодиака: Стрелец\n"
     ]
    }
   ],
   "source": [
    "date = int(input('Введите день:\\n'))\n",
    "month = input('Введите месяц:\\n')\n",
    "if month == 'Январь' or month == 'январь':\n",
    "    if date < 21:\n",
    "        print('Ваш знак зодиака: Козерог')\n",
    "    else:\n",
    "        print('Ваш знак зодиака: Водолей')\n",
    "if month == 'Февраль' or month == 'февраль':\n",
    "    if date < 20:\n",
    "        print('Ваш знак зодиака: Водолей')\n",
    "    else:\n",
    "        print('Ваш знак зодиака: Рыбы')\n",
    "if month == 'Март' or month == 'март':\n",
    "    if date < 21:\n",
    "        print('Ваш знак зодиака: Рыбы')\n",
    "    else:\n",
    "        print('Ваш знак зодиака: Овен')\n",
    "if month == 'Апрель' or month == 'апрель':\n",
    "    if date < 21:\n",
    "        print('Ваш знак зодиака: Овен')\n",
    "    else:\n",
    "        print('Ваш знак зодиака: Телец')\n",
    "if month == 'Май' or month == 'май':\n",
    "    if date < 22:\n",
    "        print('Ваш знак зодиака: Телец')\n",
    "    else:\n",
    "        print('Ваш знак зодиака: Близнецы')\n",
    "if month == 'Июнь' or month == 'июнь':\n",
    "    if date < 22:\n",
    "        print('Ваш знак зодиака: Близнецы')\n",
    "    else:\n",
    "        print('Ваш знак зодиака: Рак')\n",
    "if month == 'Июль' or month == 'июль':\n",
    "    if date < 23:\n",
    "        print('Ваш знак зодиака: Рак')\n",
    "    else:\n",
    "        print('Ваш знак зодиака: Лев')\n",
    "if month == 'Август' or month == 'август':\n",
    "    if date < 24:\n",
    "        print('Ваш знак зодиака: Лев')\n",
    "    else:\n",
    "        print('Ваш знак зодиака: Дева')\n",
    "if month == 'Сентябрь' or month == 'сентябрь':\n",
    "    if date < 24:\n",
    "        print('Ваш знак зодиака: Дева')\n",
    "    else:\n",
    "        print('Ваш знак зодиака: Весы')\n",
    "if month == 'Октябрь' or month == 'октябрь':\n",
    "    if date < 24:\n",
    "        print('Ваш знак зодиака: Весы')\n",
    "    else:\n",
    "        print('Ваш знак зодиака: Скорпион')\n",
    "if month == 'Ноябрь' or month == 'ноябрь':\n",
    "    if date < 23:\n",
    "        print('Ваш знак зодиака: Скорпион')\n",
    "    else:\n",
    "        print('Ваш знак зодиака: Стрелец')\n",
    "if month == 'Декабрь' or month == 'декабрь':\n",
    "    if date < 23:\n",
    "        print('Ваш знак зодиака: Стрелец')\n",
    "    else:\n",
    "        print('Ваш знак зодиака: Козерог')"
   ]
  },
  {
   "cell_type": "markdown",
   "metadata": {},
   "source": [
    "#### Задание 4."
   ]
  },
  {
   "cell_type": "code",
   "execution_count": 13,
   "metadata": {},
   "outputs": [
    {
     "name": "stdout",
     "output_type": "stream",
     "text": [
      "Стандартная коробка №3\n"
     ]
    }
   ],
   "source": [
    "width = 10\n",
    "length = 205\n",
    "heigth = 5\n",
    "if length > 200:\n",
    "    print('Упаковка для лыж')\n",
    "elif width < 15 and length < 15 and length < 15:\n",
    "    print('Коробка №1')\n",
    "elif (15 <= width < 50) or (15 <= length < 50) or (15 <= heigth < 50):\n",
    "    print('Коробка №2')\n",
    "else:\n",
    "    print('Стандартная коробка №3')"
   ]
  },
  {
   "cell_type": "markdown",
   "metadata": {},
   "source": [
    "#### Задание 5."
   ]
  },
  {
   "cell_type": "code",
   "execution_count": 33,
   "metadata": {},
   "outputs": [
    {
     "name": "stdout",
     "output_type": "stream",
     "text": [
      "Результат:\n",
      "Счастливый билет\n"
     ]
    }
   ],
   "source": [
    "number = 326227\n",
    "# получим цифры из которых состоит число, и проверим равенство сумм трех первых и трех последних цифр\n",
    "a1 = number // 100000\n",
    "number -= a1*100000\n",
    "a2 = number // 10000\n",
    "number -= a2*10000\n",
    "a3 = number // 1000\n",
    "number -= a3*1000\n",
    "a4 = number // 100\n",
    "number -= a4*100\n",
    "a5 = number // 10\n",
    "number -= a5*100\n",
    "a6 = number % 10\n",
    "if (a1 + a2 + a3) == (a4 + a5 + a6):\n",
    "    print('Результат:\\nСчастливый билет')\n",
    "else:\n",
    "    print('Результат:\\nНесчастливый билет')"
   ]
  },
  {
   "cell_type": "markdown",
   "metadata": {},
   "source": [
    "#### Задание 6."
   ]
  },
  {
   "cell_type": "code",
   "execution_count": 69,
   "metadata": {},
   "outputs": [
    {
     "name": "stdout",
     "output_type": "stream",
     "text": [
      "Введите тип фигуры (круг, треугольник, прямоугольник):прямоугольник\n",
      "Введите длину стороны A:3.4\n",
      "Введите длину стороны B:2.8\n",
      "Площадь прямоугольника: 9.52\n"
     ]
    }
   ],
   "source": [
    "import math\n",
    "type = input('Введите тип фигуры (круг, треугольник, прямоугольник):')\n",
    "if type == 'круг':\n",
    "    r = float(input('Введите радиус круга:'))\n",
    "    print(f'Площадь круга: {r**2*3.14}')\n",
    "elif type == 'треугольник':\n",
    "    a = float(input('Введите длину стороны A:'))\n",
    "    b = float(input('Введите длину стороны B:'))\n",
    "    c = float(input('Введите длину стороны C:'))\n",
    "    p = (a + b + c)/2\n",
    "    print(f'Площадь треугольника: {math.sqrt(p*(p-a)*(p-b)*(p-c)) :.5}')\n",
    "elif type == 'прямоугольник':\n",
    "    a = float(input('Введите длину стороны A:'))\n",
    "    b = float(input('Введите длину стороны B:'))\n",
    "    print(f'Площадь прямоугольника: {a*b :.5}')\n",
    "else:\n",
    "    print('Введите тип фигуры из предложенного списка')"
   ]
  }
 ],
 "metadata": {
  "kernelspec": {
   "display_name": "Python 3",
   "language": "python",
   "name": "python3"
  },
  "language_info": {
   "codemirror_mode": {
    "name": "ipython",
    "version": 3
   },
   "file_extension": ".py",
   "mimetype": "text/x-python",
   "name": "python",
   "nbconvert_exporter": "python",
   "pygments_lexer": "ipython3",
   "version": "3.8.3"
  }
 },
 "nbformat": 4,
 "nbformat_minor": 4
}
