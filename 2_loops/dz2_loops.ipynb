{
 "cells": [
  {
   "cell_type": "markdown",
   "metadata": {},
   "source": [
    "### Домашнее задание к лекции \"Введение в типы данных и циклы. Часть 1\""
   ]
  },
  {
   "cell_type": "markdown",
   "metadata": {},
   "source": [
    "#### Задание 1."
   ]
  },
  {
   "cell_type": "code",
   "execution_count": 1,
   "metadata": {},
   "outputs": [
    {
     "name": "stdout",
     "output_type": "stream",
     "text": [
      "at\n"
     ]
    }
   ],
   "source": [
    "my_word = 'cats'\n",
    "word_len = len(my_word)\n",
    "middle = int(word_len/2)\n",
    "if word_len % 2 == 0:\n",
    "    print(my_word[middle-1:middle+1])\n",
    "else:\n",
    "    print(my_word[middle])"
   ]
  },
  {
   "cell_type": "markdown",
   "metadata": {},
   "source": [
    "#### Задание 2."
   ]
  },
  {
   "cell_type": "code",
   "execution_count": 94,
   "metadata": {},
   "outputs": [
    {
     "name": "stdout",
     "output_type": "stream",
     "text": [
      "Введите число: 12\n",
      "Введите число: 23\n",
      "Введите число: 34\n",
      "Введите число: 0\n",
      "Результат:\n",
      "69\n"
     ]
    }
   ],
   "source": [
    "user_sum = 0\n",
    "while True:\n",
    "    user_num = int(input('Введите число: '))\n",
    "    if user_num != 0:\n",
    "        user_sum += user_num\n",
    "    else:\n",
    "        print(f'Результат:\\n{user_sum}')\n",
    "        break"
   ]
  },
  {
   "cell_type": "markdown",
   "metadata": {},
   "source": [
    "#### Задание 3."
   ]
  },
  {
   "cell_type": "code",
   "execution_count": 26,
   "metadata": {},
   "outputs": [
    {
     "name": "stdout",
     "output_type": "stream",
     "text": [
      "Результат:\n",
      "Идеальные пары\n",
      "Alex и Emma\n",
      "Arthur и Kate\n",
      "John и Kira\n",
      "Peter и Liza\n",
      "Richard и Trisha\n"
     ]
    }
   ],
   "source": [
    "boys = ['Peter','Alex','John','Arthur','Richard']\n",
    "girls = ['Kate','Liza','Kira','Emma','Trisha']\n",
    "if len(boys) != len(girls):\n",
    "    print('Результат:\\nВнимание, кто-то может остаться без пары!')\n",
    "else:\n",
    "    pairs = zip(sorted(boys),sorted(girls))\n",
    "    pair_list = list(pairs)\n",
    "    print('Результат:\\nИдеальные пары')\n",
    "    for i in pair_list:\n",
    "        print(f'{i[0]} и {i[1]}')"
   ]
  },
  {
   "cell_type": "markdown",
   "metadata": {},
   "source": [
    "#### Задание 4."
   ]
  },
  {
   "cell_type": "code",
   "execution_count": 93,
   "metadata": {},
   "outputs": [
    {
     "name": "stdout",
     "output_type": "stream",
     "text": [
      "Результат:\n",
      "Средняя температура в странах:\n",
      "Thailand - 23.9 C\n",
      "Germany - 13.8 C\n",
      "Russia - 3.7 C\n",
      "Poland - 12.0 C\n"
     ]
    }
   ],
   "source": [
    "countries_temperature = [\n",
    "['Thailand', [75.2, 77, 78.8, 73.4, 68, 75.2, 77]],\n",
    "['Germany', [57.2, 55.4, 59, 59, 53.6]],\n",
    "['Russia', [35.6, 37.4, 39.2, 41, 42.8, 39.2, 35.6]],\n",
    "['Poland', [50, 50, 53.6, 57.2, 55.4, 55.4]]\n",
    "]\n",
    "print('Результат:\\nСредняя температура в странах:')\n",
    "for country, temperature in countries_temperature:\n",
    "    temp_mean = 0\n",
    "    for temp in temperature:\n",
    "        temp_mean += temp\n",
    "    temp_mean = (temp_mean/len(temperature) - 32) * 5 / 9\n",
    "    print(f'{country} - {round(temp_mean,1)} C')"
   ]
  },
  {
   "cell_type": "markdown",
   "metadata": {},
   "source": [
    "#### Задание 5."
   ]
  },
  {
   "cell_type": "code",
   "execution_count": 79,
   "metadata": {},
   "outputs": [
    {
     "name": "stdout",
     "output_type": "stream",
     "text": [
      "Результат;\n",
      "Среднее количество просмотров на уникального пользователя: 23.25\n"
     ]
    }
   ],
   "source": [
    "stream = [\n",
    "'2018-01-01,user1,3',\n",
    "'2018-01-07,user1,4',\n",
    "'2018-03-29,user1,1',\n",
    "'2018-04-04,user1,13',\n",
    "'2018-01-05,user2,7',\n",
    "'2018-06-14,user3,4',\n",
    "'2018-07-02,user3,10',\n",
    "'2018-03-21,user4,19',\n",
    "'2018-03-22,user4,4',\n",
    "'2018-04-22,user4,8',\n",
    "'2018-05-03,user4,9',\n",
    "'2018-05-11,user4,11',\n",
    "]\n",
    "views_sum = 0\n",
    "unic_users = []\n",
    "for views in stream:\n",
    "    view = views.split(',')\n",
    "    views_sum += int(view[2])\n",
    "    if view[1] not in unic_users:\n",
    "          unic_users.append(view[1]) \n",
    "print(f'Результат;\\nСреднее количество просмотров на уникального пользователя: {views_sum/len(unic_users)}')   \n",
    "    "
   ]
  },
  {
   "cell_type": "markdown",
   "metadata": {},
   "source": [
    "#### Задание 6."
   ]
  },
  {
   "cell_type": "code",
   "execution_count": 92,
   "metadata": {},
   "outputs": [
    {
     "name": "stdout",
     "output_type": "stream",
     "text": [
      "Введите числa, разделенные пробелом:1 2 3 4 3 2\n",
      "1 2 3 4\n"
     ]
    }
   ],
   "source": [
    "unic_number = []\n",
    "user_str = input('Введите числa, разделенные пробелом:')\n",
    "numbers = user_str.split(' ')\n",
    "for n in numbers:\n",
    "    if n not in unic_number:\n",
    "        unic_number.append(n)\n",
    "unic_list = ' '.join(unic_number)\n",
    "print(unic_list)"
   ]
  }
 ],
 "metadata": {
  "kernelspec": {
   "display_name": "Python 3",
   "language": "python",
   "name": "python3"
  },
  "language_info": {
   "codemirror_mode": {
    "name": "ipython",
    "version": 3
   },
   "file_extension": ".py",
   "mimetype": "text/x-python",
   "name": "python",
   "nbconvert_exporter": "python",
   "pygments_lexer": "ipython3",
   "version": "3.8.3"
  }
 },
 "nbformat": 4,
 "nbformat_minor": 4
}
