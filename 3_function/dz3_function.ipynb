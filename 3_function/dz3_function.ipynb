{
 "cells": [
  {
   "cell_type": "markdown",
   "metadata": {},
   "source": [
    "### Домашнее задание к лекции \"Функции\""
   ]
  },
  {
   "cell_type": "markdown",
   "metadata": {},
   "source": [
    "#### Задание 1."
   ]
  },
  {
   "cell_type": "code",
   "execution_count": 93,
   "metadata": {},
   "outputs": [],
   "source": [
    "documents = [\n",
    "{'type': 'passport', 'number': '2207 876234', 'name': 'Василий Гупкин'},\n",
    "{'type': 'invoice', 'number': '11-2', 'name': 'Геннадий Покемонов'},\n",
    "{'type': 'insurance', 'number': '10006', 'name': 'Аристарх Павлов'}\n",
    "]\n",
    "directories = {\n",
    "'1': ['2207 876234', '11-2'],\n",
    "'2': ['10006'],\n",
    "'3': []\n",
    "}"
   ]
  },
  {
   "cell_type": "code",
   "execution_count": 94,
   "metadata": {},
   "outputs": [],
   "source": [
    "def document_owner():\n",
    "    num = input('Введите номер документа:')\n",
    "    owner = ''\n",
    "    for document in documents:\n",
    "        if document['number'] == num:\n",
    "            owner = document['name']         \n",
    "    if len(owner) == 0:\n",
    "        return(f'Документ не найден в базе')\n",
    "    else:\n",
    "        return (f'Владелец документа: {owner}')"
   ]
  },
  {
   "cell_type": "code",
   "execution_count": 95,
   "metadata": {},
   "outputs": [],
   "source": [
    "def document_dir():\n",
    "    num = input('Введите номер документа:')\n",
    "    doc_shelf = ''\n",
    "    for shelf in directories.items():\n",
    "        if num in shelf[1]:\n",
    "            doc_shelf = shelf[0]\n",
    "            return (f'Документ хранится на полке: {doc_shelf}')\n",
    "    if len(doc_shelf) == 0:\n",
    "        return(f'Документ не найден в базе')"
   ]
  },
  {
   "cell_type": "code",
   "execution_count": 96,
   "metadata": {},
   "outputs": [],
   "source": [
    "def documents_info():\n",
    "    for document in documents:\n",
    "        number = document['number']\n",
    "        doc_type = document['type']\n",
    "        name = document['name']\n",
    "        for shelf in directories.items():\n",
    "            if number in shelf[1]:\n",
    "                doc_shelf = shelf[0]\n",
    "        print(f'№:{number}, тип: {doc_type}, владелец: {name}, полка хранения: {doc_shelf}')"
   ]
  },
  {
   "cell_type": "code",
   "execution_count": 97,
   "metadata": {},
   "outputs": [],
   "source": [
    "def dir_insert():\n",
    "    dir_num = input('Введите номер полки: ')\n",
    "    if dir_num not in directories.keys():\n",
    "        directories[dir_num] = []\n",
    "        return(f'Полка добавлена. Текущий перечень полок: {\", \".join(directories.keys())}')\n",
    "    else:\n",
    "        return(f'Такая полка уже существует. Текущий перечень полок: {\", \".join(directories.keys())}') "
   ]
  },
  {
   "cell_type": "code",
   "execution_count": 98,
   "metadata": {},
   "outputs": [],
   "source": [
    "def dir_delete():\n",
    "    dir_num = input('Введите номер полки: ')\n",
    "    if dir_num in directories.keys():\n",
    "        if len(directories[dir_num]) == 0:\n",
    "            del(directories[dir_num])\n",
    "            return(f'Полка удалена. Текущий перечень полок: {\", \".join(directories.keys())}')\n",
    "        else:\n",
    "            return(f'На полке есть документы, удалите их перед удалением полки. Текущий перечень полок: {\", \".join(directories.keys())}')\n",
    "    else:\n",
    "        return(f'Такой полки не существует. Текущий перечень полок: {\", \".join(directories.keys())}') "
   ]
  },
  {
   "cell_type": "code",
   "execution_count": 99,
   "metadata": {},
   "outputs": [],
   "source": [
    "def main(documents, directories):\n",
    "    while True:\n",
    "        user_input = input('Введите команду: ')\n",
    "        if user_input == 'p':\n",
    "            print('Результат:\\n',document_owner(), '\\n')\n",
    "        elif user_input == 's':\n",
    "            print('Результат:\\n',document_dir(), '\\n')\n",
    "        elif user_input == 'i':\n",
    "            documents_info()\n",
    "            print()\n",
    "        elif user_input == 'as':\n",
    "            print('Результат:\\n',dir_insert(), '\\n') \n",
    "        elif user_input == 'ds':\n",
    "            print('Результат:\\n',dir_delete(), '\\n')     \n",
    "        elif user_input == 'q':\n",
    "            print('До свидания!')\n",
    "            break"
   ]
  },
  {
   "cell_type": "code",
   "execution_count": 100,
   "metadata": {},
   "outputs": [
    {
     "name": "stdout",
     "output_type": "stream",
     "text": [
      "Введите команду: q\n",
      "До свидания!\n"
     ]
    }
   ],
   "source": [
    "main(documents, directories)"
   ]
  }
 ],
 "metadata": {
  "kernelspec": {
   "display_name": "Python 3",
   "language": "python",
   "name": "python3"
  },
  "language_info": {
   "codemirror_mode": {
    "name": "ipython",
    "version": 3
   },
   "file_extension": ".py",
   "mimetype": "text/x-python",
   "name": "python",
   "nbconvert_exporter": "python",
   "pygments_lexer": "ipython3",
   "version": "3.8.3"
  }
 },
 "nbformat": 4,
 "nbformat_minor": 4
}
