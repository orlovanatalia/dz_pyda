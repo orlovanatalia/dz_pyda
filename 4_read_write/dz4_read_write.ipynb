{
 "cells": [
  {
   "cell_type": "markdown",
   "metadata": {},
   "source": [
    "### Домашнее задание к лекции Работа с файловой системой и модули"
   ]
  },
  {
   "cell_type": "markdown",
   "metadata": {},
   "source": [
    "#### Задание 1."
   ]
  },
  {
   "cell_type": "code",
   "execution_count": 4,
   "metadata": {},
   "outputs": [],
   "source": [
    "import json\n",
    "# with open('purchase_log.txt', encoding = 'utf-8') as f:\n",
    "#     print([next(f) for x in range(10)])"
   ]
  },
  {
   "cell_type": "code",
   "execution_count": 54,
   "metadata": {},
   "outputs": [
    {
     "name": "stdout",
     "output_type": "stream",
     "text": [
      "{'user_id': 'user_id', 'category': 'category'}\n",
      "{'user_id': '1840e0b9d4', 'category': 'Продукты'}\n",
      "{'user_id': '4e4f90fcfb', 'category': 'Электроника'}\n",
      "{'user_id': 'afea8d72fc', 'category': 'Электроника'}\n",
      "{'user_id': '373a6055fe', 'category': 'Бытовая техника'}\n"
     ]
    }
   ],
   "source": [
    "purchase = []\n",
    "with open('purchase_log.txt', encoding = 'utf-8') as f:\n",
    "    for line in f:\n",
    "        dict_ = json.loads(line)\n",
    "        purchase.append(dict_)\n",
    "i = 0\n",
    "for item in purchase:\n",
    "    print(item)\n",
    "    i += 1\n",
    "    if i > 4:\n",
    "        break"
   ]
  },
  {
   "cell_type": "markdown",
   "metadata": {},
   "source": [
    "#### Задание 2."
   ]
  },
  {
   "cell_type": "code",
   "execution_count": 55,
   "metadata": {},
   "outputs": [
    {
     "name": "stdout",
     "output_type": "stream",
     "text": [
      "['user_id,source\\n', '6450655ae8,other\\n', 'b4ea53e670,other\\n', '0e37347152,other\\n', '96064ae9e0,other\\n']\n"
     ]
    }
   ],
   "source": [
    "with open('visit_log.csv', encoding = 'utf-8') as f:\n",
    "    print([next(f) for x in range(5)])"
   ]
  },
  {
   "cell_type": "code",
   "execution_count": 33,
   "metadata": {},
   "outputs": [],
   "source": [
    "'''\n",
    "Данный выполняется очень долго, возможно, это слишком тяжелое решение, \n",
    "так как для каждой строки из visit_log выполняется поиск по всему объекту purchase, \n",
    "но более простого решения я не смогла придумать.\n",
    "'''\n",
    "with open('visit_log.csv', encoding = 'utf-8') as source:\n",
    "    with open('funnel.csv', 'w', encoding = 'utf-8') as result:\n",
    "         for line in source:    # читаем строку из visit_log.csv\n",
    "            user = line.strip().split(',')[0]  # получаем id_user\n",
    "            for item in purchase:\n",
    "                if item['user_id'] == user:       # ищем запись с таким id_user в purchase\n",
    "                    user_cat = item['category']   # извлекаем для этой записи категорию\n",
    "                    result.write(line.strip() + ','+str(user_cat)+'\\n') # формируем строку для записи в funnel.csv"
   ]
  },
  {
   "cell_type": "code",
   "execution_count": null,
   "metadata": {},
   "outputs": [],
   "source": [
    "# ниже тест для сокращенной версии исходных файлов purchase_log1.txt и visit_log1.csv, чтобы проверить логику."
   ]
  },
  {
   "cell_type": "code",
   "execution_count": 57,
   "metadata": {},
   "outputs": [],
   "source": [
    "purchase1 = []\n",
    "with open('purchase_log1.txt', encoding = 'utf-8') as f:\n",
    "    for line in f:\n",
    "        dict_ = json.loads(line)\n",
    "        purchase1.append(dict_)        "
   ]
  },
  {
   "cell_type": "code",
   "execution_count": 58,
   "metadata": {},
   "outputs": [],
   "source": [
    "with open('visit_log1.csv', encoding = 'utf-8') as source:\n",
    "    with open('funnel.csv', 'w', encoding = 'utf-8') as result:\n",
    "         for line in source:\n",
    "            user = line.strip().split(',')[0]\n",
    "            for item in purchase1:\n",
    "                if item['user_id'] == user:\n",
    "                    user_cat = item['category']\n",
    "                    result.write(line.strip() + ','+str(user_cat)+'\\n')"
   ]
  }
 ],
 "metadata": {
  "kernelspec": {
   "display_name": "Python 3",
   "language": "python",
   "name": "python3"
  },
  "language_info": {
   "codemirror_mode": {
    "name": "ipython",
    "version": 3
   },
   "file_extension": ".py",
   "mimetype": "text/x-python",
   "name": "python",
   "nbconvert_exporter": "python",
   "pygments_lexer": "ipython3",
   "version": "3.8.3"
  }
 },
 "nbformat": 4,
 "nbformat_minor": 4
}
