{
 "cells": [
  {
   "cell_type": "markdown",
   "metadata": {},
   "source": [
    "### Домашнее задание к лекции «Исключения и обработка ошибок»"
   ]
  },
  {
   "cell_type": "markdown",
   "metadata": {},
   "source": [
    "#### Задание 1."
   ]
  },
  {
   "cell_type": "code",
   "execution_count": 2,
   "metadata": {},
   "outputs": [],
   "source": [
    "from datetime import datetime \n",
    "date_string1 = 'Wednesday, October 2, 2002'\n",
    "date_string2 = 'Friday, 11.10.13'\n",
    "date_string3 = 'Thursday, 18 August 1977'"
   ]
  },
  {
   "cell_type": "code",
   "execution_count": 8,
   "metadata": {},
   "outputs": [
    {
     "name": "stdout",
     "output_type": "stream",
     "text": [
      "2002-10-02 00:00:00\n",
      "2013-10-11 00:00:00\n",
      "1977-08-18 00:00:00\n"
     ]
    }
   ],
   "source": [
    "date1 = datetime.strptime(date_string1, '%A, %B %d, %Y')\n",
    "print(date1)\n",
    "date2 = datetime.strptime(date_string2, '%A, %d.%m.%y')\n",
    "print(date2)\n",
    "date3 = datetime.strptime(date_string3, '%A, %d %B %Y')\n",
    "print(date3)"
   ]
  },
  {
   "cell_type": "markdown",
   "metadata": {},
   "source": [
    "#### Задание 2."
   ]
  },
  {
   "cell_type": "code",
   "execution_count": 20,
   "metadata": {},
   "outputs": [
    {
     "name": "stdout",
     "output_type": "stream",
     "text": [
      "2018-04-02 - True\n",
      "2018-02-29 - False\n",
      "2018-19-02 - False\n",
      "2020-10-20 - True\n",
      "2021-21-02a - False\n"
     ]
    }
   ],
   "source": [
    "stream = ['2018-04-02', '2018-02-29', '2018-19-02', '2020-10-20', '2021-21-02a']\n",
    "for item in stream:\n",
    "    try:\n",
    "        datetime.strptime(item, '%Y-%m-%d')\n",
    "    except:\n",
    "        print(f'{item} - False')\n",
    "        continue\n",
    "    print(f'{item} - True')        "
   ]
  },
  {
   "cell_type": "markdown",
   "metadata": {},
   "source": [
    "#### Задание 3."
   ]
  },
  {
   "cell_type": "code",
   "execution_count": 50,
   "metadata": {},
   "outputs": [
    {
     "data": {
      "text/plain": [
       "['2020-10-20',\n",
       " '2020-10-21',\n",
       " '2020-10-22',\n",
       " '2020-10-23',\n",
       " '2020-10-24',\n",
       " '2020-10-25',\n",
       " '2020-10-26',\n",
       " '2020-10-27']"
      ]
     },
     "execution_count": 50,
     "metadata": {},
     "output_type": "execute_result"
    }
   ],
   "source": [
    "from datetime import timedelta\n",
    "def date_range(start_date, end_date):\n",
    "    date_list = []\n",
    "    try:\n",
    "        s_date = datetime.strptime(start_date, '%Y-%m-%d')\n",
    "        e_date = datetime.strptime(end_date, '%Y-%m-%d')\n",
    "    except:\n",
    "        print('Неправильный формат дат')\n",
    "        return date_list\n",
    "    if s_date > e_date:\n",
    "        return date_list\n",
    "    next_date = s_date\n",
    "    while next_date <= e_date:\n",
    "        date_list.append(next_date.strftime('%Y-%m-%d'))\n",
    "        next_date = next_date + timedelta(days=1)\n",
    "    return date_list\n",
    "date_range('2020-10-20', '2020-10-27')"
   ]
  },
  {
   "cell_type": "markdown",
   "metadata": {},
   "source": [
    "#### Задание 4."
   ]
  },
  {
   "cell_type": "code",
   "execution_count": 54,
   "metadata": {},
   "outputs": [],
   "source": [
    "DEFAULT_USER_COUNT = 3\n",
    "def delete_and_return_last_user(region, default_list=['A100', 'A101', 'A102']):\n",
    "    element_to_delete = default_list[-1]\n",
    "    default_list.remove(element_to_delete)\n",
    "    return default_list[DEFAULT_USER_COUNT-2]"
   ]
  },
  {
   "cell_type": "code",
   "execution_count": 60,
   "metadata": {},
   "outputs": [
    {
     "ename": "IndexError",
     "evalue": "list index out of range",
     "output_type": "error",
     "traceback": [
      "\u001b[1;31m---------------------------------------------------------------------------\u001b[0m",
      "\u001b[1;31mIndexError\u001b[0m                                Traceback (most recent call last)",
      "\u001b[1;32m<ipython-input-60-bfb6c4f8c48e>\u001b[0m in \u001b[0;36m<module>\u001b[1;34m\u001b[0m\n\u001b[1;32m----> 1\u001b[1;33m \u001b[0mdelete_and_return_last_user\u001b[0m\u001b[1;33m(\u001b[0m\u001b[1;36m1\u001b[0m\u001b[1;33m)\u001b[0m\u001b[1;33m\u001b[0m\u001b[1;33m\u001b[0m\u001b[0m\n\u001b[0m",
      "\u001b[1;32m<ipython-input-58-a886a93148fa>\u001b[0m in \u001b[0;36mdelete_and_return_last_user\u001b[1;34m(region, default_list)\u001b[0m\n\u001b[0;32m      2\u001b[0m     \u001b[0melement_to_delete\u001b[0m \u001b[1;33m=\u001b[0m \u001b[0mdefault_list\u001b[0m\u001b[1;33m[\u001b[0m\u001b[1;33m-\u001b[0m\u001b[1;36m1\u001b[0m\u001b[1;33m]\u001b[0m\u001b[1;33m\u001b[0m\u001b[1;33m\u001b[0m\u001b[0m\n\u001b[0;32m      3\u001b[0m     \u001b[0mdefault_list\u001b[0m\u001b[1;33m.\u001b[0m\u001b[0mremove\u001b[0m\u001b[1;33m(\u001b[0m\u001b[0melement_to_delete\u001b[0m\u001b[1;33m)\u001b[0m\u001b[1;33m\u001b[0m\u001b[1;33m\u001b[0m\u001b[0m\n\u001b[1;32m----> 4\u001b[1;33m     \u001b[1;32mreturn\u001b[0m \u001b[0mdefault_list\u001b[0m\u001b[1;33m[\u001b[0m\u001b[0mDEFAULT_USER_COUNT\u001b[0m\u001b[1;33m-\u001b[0m\u001b[1;36m2\u001b[0m\u001b[1;33m]\u001b[0m\u001b[1;33m\u001b[0m\u001b[1;33m\u001b[0m\u001b[0m\n\u001b[0m",
      "\u001b[1;31mIndexError\u001b[0m: list index out of range"
     ]
    }
   ],
   "source": [
    "delete_and_return_last_user(1)"
   ]
  },
  {
   "cell_type": "code",
   "execution_count": null,
   "metadata": {},
   "outputs": [],
   "source": [
    "'''\n",
    "После первого запуска default_list=['A100', 'A101']\n",
    "При втором запуске первая команда удаляет 'A101', и в списке остается только один элемент.\n",
    "Поэтому, при попытке вернуть элемент с индексом -2 выдается сообщение, что индекс за пределами диапазона.\n",
    "'''"
   ]
  }
 ],
 "metadata": {
  "kernelspec": {
   "display_name": "Python 3",
   "language": "python",
   "name": "python3"
  },
  "language_info": {
   "codemirror_mode": {
    "name": "ipython",
    "version": 3
   },
   "file_extension": ".py",
   "mimetype": "text/x-python",
   "name": "python",
   "nbconvert_exporter": "python",
   "pygments_lexer": "ipython3",
   "version": "3.8.3"
  }
 },
 "nbformat": 4,
 "nbformat_minor": 4
}
