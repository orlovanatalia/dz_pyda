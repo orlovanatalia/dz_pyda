{
 "cells": [
  {
   "cell_type": "markdown",
   "metadata": {},
   "source": [
    "### Домашнее задание к лекции \"Регулярные выражения\""
   ]
  },
  {
   "cell_type": "markdown",
   "metadata": {},
   "source": [
    "#### Задание 1.\n",
    "Напишите функцию, которая принимает на вход строку и проверяет является ли она валидным транспортным номером (1 буква, 3 цифры, 2 буквы, 2-3 цифры). Обратите внимание, что не все буквы кириллического алфавита используются в транспортных номерах."
   ]
  },
  {
   "cell_type": "code",
   "execution_count": 144,
   "metadata": {},
   "outputs": [],
   "source": [
    "import re"
   ]
  },
  {
   "cell_type": "code",
   "execution_count": 145,
   "metadata": {},
   "outputs": [],
   "source": [
    "# В автомобильных номерах встречаются только буквы А, В, Е, К, М, Н, О, Р, С, Т, У, Х\n",
    "def car_number_check(string_):\n",
    "    if re.findall(r'[АВЕКМНОРСТУХ]{1}\\d{3}[АВЕКМНОРСТУХ]{2}\\d{2,3}',string_):\n",
    "        number = re.findall(r'^\\w{1}\\d{3}\\w{2}', string_)[0]\n",
    "        region = re.findall(r'\\d{2,3}$',string_)[0]\n",
    "        print(f'Номер {number} валидный, регион {region}.')\n",
    "    else:\n",
    "        print(f'Номер невалидный')"
   ]
  },
  {
   "cell_type": "code",
   "execution_count": 146,
   "metadata": {},
   "outputs": [
    {
     "name": "stdout",
     "output_type": "stream",
     "text": [
      "Номер Р625ВВ валидный, регион 81.\n"
     ]
    }
   ],
   "source": [
    "car_number_check('Р625ВВ81')"
   ]
  },
  {
   "cell_type": "markdown",
   "metadata": {},
   "source": [
    "#### Задание 2.\n",
    "Напишите функцию, которая будет удалять все последовательные повторы слов из заданной строки при помощи регулярных выражений."
   ]
  },
  {
   "cell_type": "code",
   "execution_count": 147,
   "metadata": {},
   "outputs": [],
   "source": [
    "some_string = 'Напишите функцию функцию, которая будет будет будет будет удалять все все все все последовательные повторы слов из из из из заданной строки строки при помощи регулярных выражений'"
   ]
  },
  {
   "cell_type": "code",
   "execution_count": 148,
   "metadata": {},
   "outputs": [
    {
     "data": {
      "text/plain": [
       "'Напишите функцию, которая будет удалять все последовательные повторы слов из заданной строки при помощи регулярных выражений'"
      ]
     },
     "execution_count": 148,
     "metadata": {},
     "output_type": "execute_result"
    }
   ],
   "source": [
    "def del_repeat(string_):\n",
    "    correct_string = re.sub(r'(\\s\\w+)\\1+', r'\\1' , string_)\n",
    "    return correct_string\n",
    "del_repeat(some_string)"
   ]
  },
  {
   "cell_type": "markdown",
   "metadata": {},
   "source": [
    "#### Задание 3.\n",
    "Напишите функцию, которая будет возвращать акроним по переданной в нее строке со словами."
   ]
  },
  {
   "cell_type": "code",
   "execution_count": 149,
   "metadata": {},
   "outputs": [],
   "source": [
    "some_words = 'Информационные технологии'\n",
    "some_words1 = 'Near Field Communication'"
   ]
  },
  {
   "cell_type": "code",
   "execution_count": 150,
   "metadata": {},
   "outputs": [
    {
     "data": {
      "text/plain": [
       "'ИТ'"
      ]
     },
     "execution_count": 150,
     "metadata": {},
     "output_type": "execute_result"
    }
   ],
   "source": [
    "def make_acronim(string_):\n",
    "    acronim = re.sub(r'(\\w{1})(\\w+\\s?)', r'\\1' , string_).upper()\n",
    "    return acronim\n",
    "make_acronim(some_words)"
   ]
  },
  {
   "cell_type": "markdown",
   "metadata": {},
   "source": [
    "#### Задание 4.\n",
    "\n",
    "Напишите функцию, которая будет принимать на вход список email-адресов и выводить их распределение по доменным зонам."
   ]
  },
  {
   "cell_type": "code",
   "execution_count": 151,
   "metadata": {},
   "outputs": [],
   "source": [
    "emails = ['test@gmail.com', 'xyz@test.in', 'test@ya.ru', 'xyz@mail.ru', 'xyz@ya.ru', 'xyz@gmail.com']"
   ]
  },
  {
   "cell_type": "code",
   "execution_count": 152,
   "metadata": {},
   "outputs": [
    {
     "data": {
      "text/plain": [
       "{'gmail.com': 2, 'test.in': 1, 'ya.ru': 2, 'mail.ru': 1}"
      ]
     },
     "execution_count": 152,
     "metadata": {},
     "output_type": "execute_result"
    }
   ],
   "source": [
    "def domen_count(list_):\n",
    "    domen_dict = {}\n",
    "    for address in list_:\n",
    "        domen = re.split(r'@', address)[1]\n",
    "        if domen not in domen_dict.keys():\n",
    "            domen_dict[domen] = 1\n",
    "        else:\n",
    "            domen_dict[domen] += 1\n",
    "    return domen_dict            \n",
    "domen_count(emails)        "
   ]
  },
  {
   "cell_type": "markdown",
   "metadata": {},
   "source": [
    "#### Задание 5.\n",
    "Напишите функцию, которая будет подсчитывать сколько слов начинается на гласные, а сколько на согласные буквы в тексте (текст может быть написан как с использованием букв кириллицы, так и латиницы)."
   ]
  },
  {
   "cell_type": "code",
   "execution_count": 153,
   "metadata": {},
   "outputs": [],
   "source": [
    "some_text = 'Эталонной реализацией Python является интерпретатор CPython, поддерживающий большинство активно используемых платформ. Он распространяется под свободной лицензией Python Software Foundation License, позволяющей использовать его без ограничений в любых приложениях, включая проприетарные.'"
   ]
  },
  {
   "cell_type": "code",
   "execution_count": 158,
   "metadata": {},
   "outputs": [
    {
     "name": "stdout",
     "output_type": "stream",
     "text": [
      "На гласные начинаются 8, на согласные 22.\n"
     ]
    }
   ],
   "source": [
    "\"\"\" \n",
    "Гласные буквы русского алфавита - а, у, о, ы, и, э, я, ю, ё, е\n",
    "Гласные буквы английского алфавита - a, e, i, o, u\n",
    "\"\"\"\n",
    "def word_count(string_):\n",
    "    string_n = string_.lower()                             #перевожу все в нижний регистр, чтобы упростить регулярное выражение\n",
    "    vocal_pattern = r'\\W[ауоыиэяюёеaeiou]\\w+'              #шаблон для слов, которые начинаются на гласные\n",
    "    vocal_count = len(re.findall(vocal_pattern, string_n)) #считаю слова, которые начинаются на гласные\n",
    "    \"\"\"\n",
    "    для получения количества слов, которые начинаются на согласные, \n",
    "    из общего количества слов, вычитаю слова, которые начинаются на гласные\n",
    "    \"\"\"\n",
    "    cont_count = len(re.findall(r'\\w+', string_n)) - vocal_count \n",
    "    return print(f'На гласные начинаются {vocal_count}, на согласные {cont_count}.')\n",
    "word_count(some_text)"
   ]
  },
  {
   "cell_type": "markdown",
   "metadata": {},
   "source": [
    "#### Задание 6.\n",
    "Напишите функцию, которая будет проверять номер сотового телефона на валидность (только для российского формата), если он валиден, то переводить его в формат:\n",
    "+7-xxx-xxx-xx-xx"
   ]
  },
  {
   "cell_type": "code",
   "execution_count": 159,
   "metadata": {},
   "outputs": [],
   "source": [
    "phone = '+7 955 555-55-55'\n",
    "phone1 = '8(955)555-55-55'\n",
    "phone2 = '+7 955 555 55 55'\n",
    "phone3 = '7(955) 555-55-55'\n",
    "phone4 = '423-555-55-5555'\n",
    "phone5 = '123-456-789'\n",
    "phone6 = '89253456712'"
   ]
  },
  {
   "cell_type": "code",
   "execution_count": 160,
   "metadata": {},
   "outputs": [],
   "source": [
    "def check_phone_number(number):\n",
    "    if re.findall(r'[78]\\D*(\\d{3})\\D*(\\d{3})\\D*(\\d{2})\\D*(\\d{2})', number):\n",
    "        number = re.sub(r'(\\+7|7|8)\\D*(\\d{3})\\D*(\\d{3})\\D*(\\d{2})\\D*(\\d{2})', r'+7-\\2-\\3-\\4-\\5', number)\n",
    "        return f' Номер валидный {number}.'\n",
    "    else:\n",
    "        return f' Номер  невалидный.'    "
   ]
  },
  {
   "cell_type": "code",
   "execution_count": 161,
   "metadata": {},
   "outputs": [
    {
     "data": {
      "text/plain": [
       "' Номер валидный +7-925-345-67-12.'"
      ]
     },
     "execution_count": 161,
     "metadata": {},
     "output_type": "execute_result"
    }
   ],
   "source": [
    "check_phone_number(phone6)"
   ]
  },
  {
   "cell_type": "code",
   "execution_count": null,
   "metadata": {},
   "outputs": [],
   "source": []
  }
 ],
 "metadata": {
  "kernelspec": {
   "display_name": "Python 3",
   "language": "python",
   "name": "python3"
  },
  "language_info": {
   "codemirror_mode": {
    "name": "ipython",
    "version": 3
   },
   "file_extension": ".py",
   "mimetype": "text/x-python",
   "name": "python",
   "nbconvert_exporter": "python",
   "pygments_lexer": "ipython3",
   "version": "3.8.3"
  }
 },
 "nbformat": 4,
 "nbformat_minor": 4
}
